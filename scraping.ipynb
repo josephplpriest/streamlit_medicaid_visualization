{
 "cells": [
  {
   "cell_type": "code",
   "execution_count": 1,
   "metadata": {
    "collapsed": true
   },
   "outputs": [],
   "source": [
    "import pandas as pd\n",
    "import requests\n",
    "import time\n",
    "import re"
   ]
  },
  {
   "cell_type": "markdown",
   "source": [
    "## Get information on years, seasons and host cities/countries\n"
   ],
   "metadata": {
    "collapsed": false,
    "pycharm": {
     "name": "#%% md\n"
    }
   }
  },
  {
   "cell_type": "code",
   "execution_count": 17,
   "outputs": [],
   "source": [
    "response = requests.get(\"https://blog.ticketcity.com/olympic-games-full-list-by-city-year/\")\n",
    "tables = pd.read_html(response.content)\n",
    "\n",
    "#sort by year\n",
    "\n",
    "date_and_location = tables[0].sort_values(0)\n",
    "\n",
    "#remove 1906 olympics which are not officially recognized\n",
    "\n",
    "date_and_location = date_and_location[date_and_location[1] != 'Olympic Games']\n",
    "\n",
    "\n",
    "#drop future olympics\n",
    "\n",
    "date_and_location = date_and_location[6:-6]"
   ],
   "metadata": {
    "collapsed": false,
    "pycharm": {
     "name": "#%%\n"
    }
   }
  },
  {
   "cell_type": "code",
   "execution_count": 18,
   "outputs": [],
   "source": [
    "#rename columns\n",
    "\n",
    "date_and_location.columns = ['year', 'season', 'host_city', 'host_country']"
   ],
   "metadata": {
    "collapsed": false,
    "pycharm": {
     "name": "#%%\n"
    }
   }
  },
  {
   "cell_type": "code",
   "execution_count": 19,
   "outputs": [],
   "source": [
    "date_and_location = date_and_location.reset_index(drop=True)"
   ],
   "metadata": {
    "collapsed": false,
    "pycharm": {
     "name": "#%%\n"
    }
   }
  },
  {
   "cell_type": "code",
   "execution_count": 20,
   "outputs": [
    {
     "data": {
      "text/plain": "    year           season               host_city host_country\n0   1924  Winter Olympics                Chamonix       France\n1   1924  Summer Olympics                   Paris       France\n2   1928  Winter Olympics              St. Moritz  Switzerland\n3   1928  Summer Olympics               Amsterdam  Netherlands\n4   1932  Winter Olympics             Lake Placid          USA\n5   1932  Summer Olympics             Los Angeles          USA\n6   1936  Winter Olympics  Garmisch-Partenkirchen      Germany\n7   1936  Summer Olympics                  Berlin      Germany\n8   1948  Summer Olympics                  London      England\n9   1948  Winter Olympics              St. Moritz  Switzerland\n10  1952  Winter Olympics                    Oslo       Norway\n11  1952  Summer Olympics                Helsinki      Finland\n12  1956  Winter Olympics       Cortina d’Ampezzo        Italy\n13  1956  Summer Olympics               Melbourne    Australia\n14  1960  Winter Olympics            Squaw Valley          USA\n15  1960  Summer Olympics                    Rome        Italy\n16  1964  Winter Olympics               Innsbruck      Austria\n17  1964  Summer Olympics                   Tokyo        Japan\n18  1968  Winter Olympics                Grenoble       France\n19  1968  Summer Olympics             Mexico City       Mexico\n20  1972  Winter Olympics                 Sapporo        Japan\n21  1972  Summer Olympics                  Munich      Germany\n22  1976  Winter Olympics               Innsbruck      Austria\n23  1976  Summer Olympics                Montreal       Canada\n24  1980  Winter Olympics             Lake Placid          USA\n25  1980  Summer Olympics                  Moscow         USSR\n26  1984  Winter Olympics                Sarajevo   Yugoslavia\n27  1984  Summer Olympics             Los Angeles          USA\n28  1988  Winter Olympics                 Calgary       Canada\n29  1988  Summer Olympics                   Seoul  South Korea\n30  1992  Winter Olympics             Albertville       France\n31  1992  Summer Olympics               Barcelona        Spain\n32  1994  Winter Olympics             Lillehammer       Norway\n33  1996  Summer Olympics                 Atlanta          USA\n34  1998  Winter Olympics                  Nagano        Japan\n35  2000  Summer Olympics                  Sydney    Australia\n36  2002  Winter Olympics          Salt Lake City          USA\n37  2004  Summer Olympics                  Athens       Greece\n38  2006  Winter Olympics                   Turin        Italy\n39  2008  Summer Olympics                 Beijing        China\n40  2010  Winter Olympics               Vancouver       Canada\n41  2012  Summer Olympics                  London      England\n42  2014  Winter Olympics                   Sochi       Russia\n43  2016  Summer Olympics          Rio de Janeiro       Brazil\n44  2018  Winter Olympics             Pyeongchang  South Korea\n45  2020  Summer Olympics                   Toyko        Japan\n46  2022  Winter Olympics                 Beijing        China",
      "text/html": "<div>\n<style scoped>\n    .dataframe tbody tr th:only-of-type {\n        vertical-align: middle;\n    }\n\n    .dataframe tbody tr th {\n        vertical-align: top;\n    }\n\n    .dataframe thead th {\n        text-align: right;\n    }\n</style>\n<table border=\"1\" class=\"dataframe\">\n  <thead>\n    <tr style=\"text-align: right;\">\n      <th></th>\n      <th>year</th>\n      <th>season</th>\n      <th>host_city</th>\n      <th>host_country</th>\n    </tr>\n  </thead>\n  <tbody>\n    <tr>\n      <th>0</th>\n      <td>1924</td>\n      <td>Winter Olympics</td>\n      <td>Chamonix</td>\n      <td>France</td>\n    </tr>\n    <tr>\n      <th>1</th>\n      <td>1924</td>\n      <td>Summer Olympics</td>\n      <td>Paris</td>\n      <td>France</td>\n    </tr>\n    <tr>\n      <th>2</th>\n      <td>1928</td>\n      <td>Winter Olympics</td>\n      <td>St. Moritz</td>\n      <td>Switzerland</td>\n    </tr>\n    <tr>\n      <th>3</th>\n      <td>1928</td>\n      <td>Summer Olympics</td>\n      <td>Amsterdam</td>\n      <td>Netherlands</td>\n    </tr>\n    <tr>\n      <th>4</th>\n      <td>1932</td>\n      <td>Winter Olympics</td>\n      <td>Lake Placid</td>\n      <td>USA</td>\n    </tr>\n    <tr>\n      <th>5</th>\n      <td>1932</td>\n      <td>Summer Olympics</td>\n      <td>Los Angeles</td>\n      <td>USA</td>\n    </tr>\n    <tr>\n      <th>6</th>\n      <td>1936</td>\n      <td>Winter Olympics</td>\n      <td>Garmisch-Partenkirchen</td>\n      <td>Germany</td>\n    </tr>\n    <tr>\n      <th>7</th>\n      <td>1936</td>\n      <td>Summer Olympics</td>\n      <td>Berlin</td>\n      <td>Germany</td>\n    </tr>\n    <tr>\n      <th>8</th>\n      <td>1948</td>\n      <td>Summer Olympics</td>\n      <td>London</td>\n      <td>England</td>\n    </tr>\n    <tr>\n      <th>9</th>\n      <td>1948</td>\n      <td>Winter Olympics</td>\n      <td>St. Moritz</td>\n      <td>Switzerland</td>\n    </tr>\n    <tr>\n      <th>10</th>\n      <td>1952</td>\n      <td>Winter Olympics</td>\n      <td>Oslo</td>\n      <td>Norway</td>\n    </tr>\n    <tr>\n      <th>11</th>\n      <td>1952</td>\n      <td>Summer Olympics</td>\n      <td>Helsinki</td>\n      <td>Finland</td>\n    </tr>\n    <tr>\n      <th>12</th>\n      <td>1956</td>\n      <td>Winter Olympics</td>\n      <td>Cortina d’Ampezzo</td>\n      <td>Italy</td>\n    </tr>\n    <tr>\n      <th>13</th>\n      <td>1956</td>\n      <td>Summer Olympics</td>\n      <td>Melbourne</td>\n      <td>Australia</td>\n    </tr>\n    <tr>\n      <th>14</th>\n      <td>1960</td>\n      <td>Winter Olympics</td>\n      <td>Squaw Valley</td>\n      <td>USA</td>\n    </tr>\n    <tr>\n      <th>15</th>\n      <td>1960</td>\n      <td>Summer Olympics</td>\n      <td>Rome</td>\n      <td>Italy</td>\n    </tr>\n    <tr>\n      <th>16</th>\n      <td>1964</td>\n      <td>Winter Olympics</td>\n      <td>Innsbruck</td>\n      <td>Austria</td>\n    </tr>\n    <tr>\n      <th>17</th>\n      <td>1964</td>\n      <td>Summer Olympics</td>\n      <td>Tokyo</td>\n      <td>Japan</td>\n    </tr>\n    <tr>\n      <th>18</th>\n      <td>1968</td>\n      <td>Winter Olympics</td>\n      <td>Grenoble</td>\n      <td>France</td>\n    </tr>\n    <tr>\n      <th>19</th>\n      <td>1968</td>\n      <td>Summer Olympics</td>\n      <td>Mexico City</td>\n      <td>Mexico</td>\n    </tr>\n    <tr>\n      <th>20</th>\n      <td>1972</td>\n      <td>Winter Olympics</td>\n      <td>Sapporo</td>\n      <td>Japan</td>\n    </tr>\n    <tr>\n      <th>21</th>\n      <td>1972</td>\n      <td>Summer Olympics</td>\n      <td>Munich</td>\n      <td>Germany</td>\n    </tr>\n    <tr>\n      <th>22</th>\n      <td>1976</td>\n      <td>Winter Olympics</td>\n      <td>Innsbruck</td>\n      <td>Austria</td>\n    </tr>\n    <tr>\n      <th>23</th>\n      <td>1976</td>\n      <td>Summer Olympics</td>\n      <td>Montreal</td>\n      <td>Canada</td>\n    </tr>\n    <tr>\n      <th>24</th>\n      <td>1980</td>\n      <td>Winter Olympics</td>\n      <td>Lake Placid</td>\n      <td>USA</td>\n    </tr>\n    <tr>\n      <th>25</th>\n      <td>1980</td>\n      <td>Summer Olympics</td>\n      <td>Moscow</td>\n      <td>USSR</td>\n    </tr>\n    <tr>\n      <th>26</th>\n      <td>1984</td>\n      <td>Winter Olympics</td>\n      <td>Sarajevo</td>\n      <td>Yugoslavia</td>\n    </tr>\n    <tr>\n      <th>27</th>\n      <td>1984</td>\n      <td>Summer Olympics</td>\n      <td>Los Angeles</td>\n      <td>USA</td>\n    </tr>\n    <tr>\n      <th>28</th>\n      <td>1988</td>\n      <td>Winter Olympics</td>\n      <td>Calgary</td>\n      <td>Canada</td>\n    </tr>\n    <tr>\n      <th>29</th>\n      <td>1988</td>\n      <td>Summer Olympics</td>\n      <td>Seoul</td>\n      <td>South Korea</td>\n    </tr>\n    <tr>\n      <th>30</th>\n      <td>1992</td>\n      <td>Winter Olympics</td>\n      <td>Albertville</td>\n      <td>France</td>\n    </tr>\n    <tr>\n      <th>31</th>\n      <td>1992</td>\n      <td>Summer Olympics</td>\n      <td>Barcelona</td>\n      <td>Spain</td>\n    </tr>\n    <tr>\n      <th>32</th>\n      <td>1994</td>\n      <td>Winter Olympics</td>\n      <td>Lillehammer</td>\n      <td>Norway</td>\n    </tr>\n    <tr>\n      <th>33</th>\n      <td>1996</td>\n      <td>Summer Olympics</td>\n      <td>Atlanta</td>\n      <td>USA</td>\n    </tr>\n    <tr>\n      <th>34</th>\n      <td>1998</td>\n      <td>Winter Olympics</td>\n      <td>Nagano</td>\n      <td>Japan</td>\n    </tr>\n    <tr>\n      <th>35</th>\n      <td>2000</td>\n      <td>Summer Olympics</td>\n      <td>Sydney</td>\n      <td>Australia</td>\n    </tr>\n    <tr>\n      <th>36</th>\n      <td>2002</td>\n      <td>Winter Olympics</td>\n      <td>Salt Lake City</td>\n      <td>USA</td>\n    </tr>\n    <tr>\n      <th>37</th>\n      <td>2004</td>\n      <td>Summer Olympics</td>\n      <td>Athens</td>\n      <td>Greece</td>\n    </tr>\n    <tr>\n      <th>38</th>\n      <td>2006</td>\n      <td>Winter Olympics</td>\n      <td>Turin</td>\n      <td>Italy</td>\n    </tr>\n    <tr>\n      <th>39</th>\n      <td>2008</td>\n      <td>Summer Olympics</td>\n      <td>Beijing</td>\n      <td>China</td>\n    </tr>\n    <tr>\n      <th>40</th>\n      <td>2010</td>\n      <td>Winter Olympics</td>\n      <td>Vancouver</td>\n      <td>Canada</td>\n    </tr>\n    <tr>\n      <th>41</th>\n      <td>2012</td>\n      <td>Summer Olympics</td>\n      <td>London</td>\n      <td>England</td>\n    </tr>\n    <tr>\n      <th>42</th>\n      <td>2014</td>\n      <td>Winter Olympics</td>\n      <td>Sochi</td>\n      <td>Russia</td>\n    </tr>\n    <tr>\n      <th>43</th>\n      <td>2016</td>\n      <td>Summer Olympics</td>\n      <td>Rio de Janeiro</td>\n      <td>Brazil</td>\n    </tr>\n    <tr>\n      <th>44</th>\n      <td>2018</td>\n      <td>Winter Olympics</td>\n      <td>Pyeongchang</td>\n      <td>South Korea</td>\n    </tr>\n    <tr>\n      <th>45</th>\n      <td>2020</td>\n      <td>Summer Olympics</td>\n      <td>Toyko</td>\n      <td>Japan</td>\n    </tr>\n    <tr>\n      <th>46</th>\n      <td>2022</td>\n      <td>Winter Olympics</td>\n      <td>Beijing</td>\n      <td>China</td>\n    </tr>\n  </tbody>\n</table>\n</div>"
     },
     "execution_count": 20,
     "metadata": {},
     "output_type": "execute_result"
    }
   ],
   "source": [
    "#change 2021 olympics postponed because of COVID to 2020, removing asterisk\n",
    "\n",
    "date_and_location.loc[45,'year'] = 2020\n",
    "\n",
    "date_and_location"
   ],
   "metadata": {
    "collapsed": false,
    "pycharm": {
     "name": "#%%\n"
    }
   }
  },
  {
   "cell_type": "code",
   "execution_count": 21,
   "outputs": [],
   "source": [
    "#fix types for season and year columns\n",
    "\n",
    "date_and_location['season'] = date_and_location['season'].astype(str)\n",
    "date_and_location['year'] = date_and_location['year'].astype(int)"
   ],
   "metadata": {
    "collapsed": false,
    "pycharm": {
     "name": "#%%\n"
    }
   }
  },
  {
   "cell_type": "code",
   "execution_count": 22,
   "outputs": [],
   "source": [
    "date_and_location['season'] = [x[0] for x in date_and_location['season'].str.split()]"
   ],
   "metadata": {
    "collapsed": false,
    "pycharm": {
     "name": "#%%\n"
    }
   }
  },
  {
   "cell_type": "markdown",
   "source": [
    "## Define a function for getting every olympics table from Wikipedia, adding the year and season"
   ],
   "metadata": {
    "collapsed": false,
    "pycharm": {
     "name": "#%% md\n"
    }
   }
  },
  {
   "cell_type": "code",
   "execution_count": 25,
   "outputs": [],
   "source": [
    "def oly_table_getter(input_url: str, current_year: int, current_season: str, host_country: str) -> pd.DataFrame:\n",
    "    \"\"\"\n",
    "        Def:\n",
    "            takes in info in order to scrape wiki medal data for indicated olympics\n",
    "\n",
    "        *args:\n",
    "            input_url: string\n",
    "            current_year: integer\n",
    "            current_season: str (Summer/Winter)\n",
    "            host_country: str\n",
    "\n",
    "        returns:\n",
    "            dataframe with columns added for year, season and host country\n",
    "    \"\"\"\n",
    "    current_data = [x for x in pd.read_html(input_url) if (x.shape[0] >= 10)][0]\n",
    "    current_data['year'], current_data['season'], current_data['host_country'] = (current_year, current_season, host_country)\n",
    "    time.sleep(1)\n",
    "    current_data = remove_totals(current_data)\n",
    "    return current_data"
   ],
   "metadata": {
    "collapsed": false,
    "pycharm": {
     "name": "#%%\n"
    }
   }
  },
  {
   "cell_type": "markdown",
   "source": [
    "## Helper function to remove totals data, we can aggregate it later if needed ourselves"
   ],
   "metadata": {
    "collapsed": false,
    "pycharm": {
     "name": "#%% md\n"
    }
   }
  },
  {
   "cell_type": "code",
   "execution_count": 26,
   "outputs": [],
   "source": [
    "def remove_totals(oly_df):\n",
    "    #check whether last row is the totals information\n",
    "    assert('Total' in oly_df.tail(1).iloc[0,0])\n",
    "\n",
    "    #drop that row, saving all rows but the last\n",
    "    olympics = oly_df.iloc[0:-1,:]\n",
    "\n",
    "    return olympics"
   ],
   "metadata": {
    "collapsed": false,
    "pycharm": {
     "name": "#%%\n"
    }
   }
  },
  {
   "cell_type": "code",
   "execution_count": 27,
   "outputs": [],
   "source": [
    "full_olympics = []"
   ],
   "metadata": {
    "collapsed": false,
    "pycharm": {
     "name": "#%%\n"
    }
   }
  },
  {
   "cell_type": "code",
   "execution_count": 28,
   "outputs": [],
   "source": [
    "for year, season, host in zip(date_and_location['year'], date_and_location['season'], date_and_location['host_country']):\n",
    "    base_url = \"https://en.wikipedia.org/wiki/\" + str(year) + '_' + str(season) + \"_Olympics_medal_table\"\n",
    "    data = oly_table_getter(base_url, year, season, host)\n",
    "    full_olympics.append(data)\n"
   ],
   "metadata": {
    "collapsed": false,
    "pycharm": {
     "name": "#%%\n"
    }
   }
  },
  {
   "cell_type": "code",
   "execution_count": 29,
   "outputs": [],
   "source": [
    "#remove 2022\n",
    "\n",
    "full_olympics = full_olympics[:-1]"
   ],
   "metadata": {
    "collapsed": false,
    "pycharm": {
     "name": "#%%\n"
    }
   }
  },
  {
   "cell_type": "code",
   "execution_count": 30,
   "outputs": [],
   "source": [
    "#add list of dataframes together vertically\n",
    "olympic_dataframe = pd.concat(full_olympics)"
   ],
   "metadata": {
    "collapsed": false,
    "pycharm": {
     "name": "#%%\n"
    }
   }
  },
  {
   "cell_type": "code",
   "execution_count": 31,
   "outputs": [],
   "source": [
    "unedited_df = olympic_dataframe"
   ],
   "metadata": {
    "collapsed": false,
    "pycharm": {
     "name": "#%%\n"
    }
   }
  },
  {
   "cell_type": "markdown",
   "source": [
    "## Fill missing values in Nations columns"
   ],
   "metadata": {
    "collapsed": false,
    "pycharm": {
     "name": "#%% md\n"
    }
   }
  },
  {
   "cell_type": "code",
   "execution_count": 32,
   "outputs": [],
   "source": [
    "unedited_df['Nation'].fillna(unedited_df['NOC'], inplace=True)"
   ],
   "metadata": {
    "collapsed": false,
    "pycharm": {
     "name": "#%%\n"
    }
   }
  },
  {
   "cell_type": "code",
   "execution_count": 33,
   "outputs": [],
   "source": [
    "unedited_df['Nation'].fillna(unedited_df.iloc[:,-1], inplace=True)"
   ],
   "metadata": {
    "collapsed": false,
    "pycharm": {
     "name": "#%%\n"
    }
   }
  },
  {
   "cell_type": "markdown",
   "source": [
    "## Lots of data cleaning, mostly for the nations column with different conventions (country codes, etc)"
   ],
   "metadata": {
    "collapsed": false,
    "pycharm": {
     "name": "#%% md\n"
    }
   }
  },
  {
   "cell_type": "code",
   "execution_count": 34,
   "outputs": [],
   "source": [
    "#remove columns created by naming/html errors\n",
    "edited_df = unedited_df.iloc[:, :-2]\n",
    "\n",
    "assert(unedited_df.isna().sum().all() == 0)"
   ],
   "metadata": {
    "collapsed": false,
    "pycharm": {
     "name": "#%%\n"
    }
   }
  },
  {
   "cell_type": "code",
   "execution_count": 35,
   "outputs": [],
   "source": [
    "#remove non_alpha characters from nations column\n",
    "edited_df.loc[:, 'Nation'] = edited_df['Nation'].apply(lambda x: re.sub(r'\\([^()]*\\)', '', x))\n",
    "edited_df.loc[:, 'Nation'] = edited_df['Nation'].apply(lambda x: re.sub(r'\\[[^()]*]', '', x))\n",
    "edited_df.loc[:, 'Nation'] = edited_df['Nation'].apply(lambda x: re.sub(r'\\*', '', x))"
   ],
   "metadata": {
    "collapsed": false,
    "pycharm": {
     "name": "#%%\n"
    }
   }
  },
  {
   "cell_type": "code",
   "execution_count": 36,
   "outputs": [],
   "source": [
    "edited_df.loc[:, 'Nation'] = edited_df['Nation'].apply(lambda x: x.strip())\n",
    "edited_df.loc[:, 'Nation'] = edited_df['Nation'].apply(lambda x: x.lower())\n",
    "edited_df.loc[:, 'Nation'] = edited_df['Nation'].apply(lambda x: x.title())"
   ],
   "metadata": {
    "collapsed": false,
    "pycharm": {
     "name": "#%%\n"
    }
   }
  },
  {
   "cell_type": "code",
   "execution_count": 37,
   "outputs": [],
   "source": [
    "edited_df.reset_index(drop=True, inplace=True)"
   ],
   "metadata": {
    "collapsed": false,
    "pycharm": {
     "name": "#%%\n"
    }
   }
  },
  {
   "cell_type": "code",
   "execution_count": 38,
   "outputs": [],
   "source": [
    "edited_df.loc[1559, \"Nation\"] = 'Russia'"
   ],
   "metadata": {
    "collapsed": false,
    "pycharm": {
     "name": "#%%\n"
    }
   }
  },
  {
   "cell_type": "markdown",
   "source": [
    "## Save to csv"
   ],
   "metadata": {
    "collapsed": false,
    "pycharm": {
     "name": "#%% md\n"
    }
   }
  },
  {
   "cell_type": "code",
   "execution_count": null,
   "outputs": [],
   "source": [
    "edited_df.to_csv(\"olympics_cleaned.csv\")"
   ],
   "metadata": {
    "collapsed": false,
    "pycharm": {
     "name": "#%%\n"
    }
   }
  }
 ],
 "metadata": {
  "kernelspec": {
   "display_name": "Python 3",
   "language": "python",
   "name": "python3"
  },
  "language_info": {
   "codemirror_mode": {
    "name": "ipython",
    "version": 2
   },
   "file_extension": ".py",
   "mimetype": "text/x-python",
   "name": "python",
   "nbconvert_exporter": "python",
   "pygments_lexer": "ipython2",
   "version": "2.7.6"
  }
 },
 "nbformat": 4,
 "nbformat_minor": 0
}