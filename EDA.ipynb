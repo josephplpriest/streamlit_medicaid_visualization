{
 "cells": [
  {
   "cell_type": "markdown",
   "id": "428036d3",
   "metadata": {},
   "source": [
    "# Exploratory Data Analysis: \n",
    "Medicare/Medicaid Drug Spending (2012-2020)\n",
    "\n"
   ]
  },
  {
   "cell_type": "code",
   "execution_count": 1,
   "id": "48d55796",
   "metadata": {},
   "outputs": [],
   "source": [
    "#pandas for dataframes/reading in csv data/saving csv data\n",
    "import pandas as pd\n",
    "\n",
    "#numeric types/computation, vectorized pandas operations\n",
    "import numpy as np\n",
    "\n",
    "#simple, quick plots\n",
    "import matplotlib.pyplot as plt\n",
    "\n",
    "#text manipulation\n",
    "from sklearn.feature_extraction.text import TfidfVectorizer\n",
    "from nltk.corpus import stopwords\n",
    "from wordcloud import WordCloud"
   ]
  },
  {
   "cell_type": "code",
   "execution_count": null,
   "id": "b00f2212",
   "metadata": {},
   "outputs": [],
   "source": []
  },
  {
   "cell_type": "code",
   "execution_count": null,
   "id": "acb30315",
   "metadata": {},
   "outputs": [],
   "source": []
  },
  {
   "cell_type": "markdown",
   "id": "de708cbe",
   "metadata": {},
   "source": [
    "for year in years:\n",
    "    print('\\n', year, '\\t')\n",
    "    data_by_year = med[med['year']==year].copy()\n",
    "    data_by_year.sort_values(\"total_spending\", ascending=False, inplace=True)\n",
    "    data_by_year['total_spending'] = data_by_year['total_spending'].astype(str).apply(\n",
    "                                                            lambda x: x[0] + \".\"+ x[1:3] + \" Billion\")\n",
    "    \n",
    "    print(data_by_year[['brand_name', 'total_spending', 'coverage_type']].head(10))\n",
    "    names = data_by_year[\"brand_name\"].head(10).apply(lambda x: x.strip().lower()).unique()\n",
    "    text = ''.join(drugs[drugs[\"Brand\"].isin(names)].Uses)\n",
    "    wc = WordCloud().generate(text)\n",
    "    \n",
    "    plt.imshow(wc, interpolation='bilinear')\n",
    "    plt.axis(\"off\")\n",
    "    plt.show()"
   ]
  },
  {
   "cell_type": "markdown",
   "id": "2ce1eff4",
   "metadata": {},
   "source": [
    "## Looking at spending"
   ]
  },
  {
   "cell_type": "code",
   "execution_count": null,
   "id": "27e60bb8",
   "metadata": {},
   "outputs": [],
   "source": [
    "spending = med.groupby([\"year\", \"coverage_type\"])['total_spending'].sum().reset_index()\n",
    "\n",
    "medicare = spending[spending.coverage_type==\"medicare\"]\n",
    "medicaid = spending[spending.coverage_type==\"medicaid\"]"
   ]
  }
 ],
 "metadata": {
  "kernelspec": {
   "display_name": "Python 3 (ipykernel)",
   "language": "python",
   "name": "python3"
  },
  "language_info": {
   "codemirror_mode": {
    "name": "ipython",
    "version": 3
   },
   "file_extension": ".py",
   "mimetype": "text/x-python",
   "name": "python",
   "nbconvert_exporter": "python",
   "pygments_lexer": "ipython3",
   "version": "3.9.7"
  }
 },
 "nbformat": 4,
 "nbformat_minor": 5
}
