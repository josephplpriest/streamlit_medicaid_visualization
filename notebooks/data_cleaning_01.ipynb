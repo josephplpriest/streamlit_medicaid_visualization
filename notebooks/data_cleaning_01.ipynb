{
 "cells": [
  {
   "cell_type": "markdown",
   "id": "3e4cb0a0",
   "metadata": {},
   "source": [
    "# Medicaid/Medicare Drug Spending Data (2012-2020)\n",
    "\n",
    "## Data Cleaning"
   ]
  },
  {
   "cell_type": "code",
   "execution_count": 1,
   "id": "b6b967cb",
   "metadata": {},
   "outputs": [],
   "source": [
    "# you did run this from the notebooks folder, right? :)\n",
    "pwd = !pwd\n",
    "assert pwd[0][-9:]==\"notebooks\""
   ]
  },
  {
   "cell_type": "code",
   "execution_count": 2,
   "id": "41131ba9",
   "metadata": {},
   "outputs": [],
   "source": [
    "#pandas for dataframes/reading in csv data/saving csv data\n",
    "import pandas as pd\n",
    "\n",
    "#numeric types/computation, vectorized pandas operations\n",
    "import numpy as np"
   ]
  },
  {
   "cell_type": "markdown",
   "id": "773eefd9",
   "metadata": {},
   "source": [
    "### Read in the data"
   ]
  },
  {
   "cell_type": "code",
   "execution_count": 3,
   "id": "d2403fbe",
   "metadata": {},
   "outputs": [],
   "source": [
    "filename = \"../data/combined/spending.csv\"\n",
    "med = pd.read_csv(filename, header=0, index_col=0)\n",
    "filename2 = \"../data/combined/drug_info.csv\"\n",
    "drug_info = pd.read_csv(filename2, header=0, index_col=0)"
   ]
  },
  {
   "cell_type": "markdown",
   "id": "ed1722af",
   "metadata": {},
   "source": [
    "### Check columns names"
   ]
  },
  {
   "cell_type": "code",
   "execution_count": 4,
   "id": "7e9a743a",
   "metadata": {},
   "outputs": [
    {
     "data": {
      "text/plain": [
       "Index(['Brand Name', 'Generic Name', 'Number of Manufacturers',\n",
       "       'Total Spending', 'Total Dosage Units', 'Total Claims',\n",
       "       'Average Spending Per Dosage Unit (Weighted)',\n",
       "       'Average Spending Per Claim', 'year', 'coverage_type'],\n",
       "      dtype='object')"
      ]
     },
     "execution_count": 4,
     "metadata": {},
     "output_type": "execute_result"
    }
   ],
   "source": [
    "med.columns"
   ]
  },
  {
   "cell_type": "markdown",
   "id": "6a10ac3c",
   "metadata": {},
   "source": [
    "### Replace spaces in column names for easier use and convert to lower case"
   ]
  },
  {
   "cell_type": "code",
   "execution_count": 5,
   "id": "99ccf130",
   "metadata": {},
   "outputs": [
    {
     "data": {
      "text/plain": [
       "Index(['brand_name', 'generic_name', 'number_of_manufacturers',\n",
       "       'total_spending', 'total_dosage_units', 'total_claims',\n",
       "       'average_spending_per_dosage_unit_(weighted)',\n",
       "       'average_spending_per_claim', 'year', 'coverage_type'],\n",
       "      dtype='object')"
      ]
     },
     "execution_count": 5,
     "metadata": {},
     "output_type": "execute_result"
    }
   ],
   "source": [
    "med.columns = [col.replace(' ', '_').lower() for col in list(med.columns)]\n",
    "med.columns"
   ]
  },
  {
   "cell_type": "markdown",
   "id": "3d4bbf19",
   "metadata": {},
   "source": [
    "## 1. Cleaning drug use info data\n",
    "\n",
    "\n"
   ]
  },
  {
   "cell_type": "code",
   "execution_count": 6,
   "id": "c1409533",
   "metadata": {},
   "outputs": [
    {
     "data": {
      "text/plain": [
       "Index(['Brand', 'Generic', 'Uses'], dtype='object')"
      ]
     },
     "execution_count": 6,
     "metadata": {},
     "output_type": "execute_result"
    }
   ],
   "source": [
    "drug_info.columns"
   ]
  },
  {
   "cell_type": "code",
   "execution_count": 7,
   "id": "9be2de89",
   "metadata": {},
   "outputs": [
    {
     "data": {
      "text/plain": [
       "Index(['brand_name', 'generic_name', 'uses'], dtype='object')"
      ]
     },
     "execution_count": 7,
     "metadata": {},
     "output_type": "execute_result"
    }
   ],
   "source": [
    "drug_info.columns = [\"brand_name\", \"generic_name\", \"uses\"]\n",
    "drug_info.columns"
   ]
  },
  {
   "cell_type": "code",
   "execution_count": 8,
   "id": "a8236d74",
   "metadata": {
    "scrolled": true
   },
   "outputs": [
    {
     "data": {
      "text/html": [
       "<div>\n",
       "<style scoped>\n",
       "    .dataframe tbody tr th:only-of-type {\n",
       "        vertical-align: middle;\n",
       "    }\n",
       "\n",
       "    .dataframe tbody tr th {\n",
       "        vertical-align: top;\n",
       "    }\n",
       "\n",
       "    .dataframe thead th {\n",
       "        text-align: right;\n",
       "    }\n",
       "</style>\n",
       "<table border=\"1\" class=\"dataframe\">\n",
       "  <thead>\n",
       "    <tr style=\"text-align: right;\">\n",
       "      <th></th>\n",
       "      <th>brand_name</th>\n",
       "      <th>generic_name</th>\n",
       "      <th>uses</th>\n",
       "    </tr>\n",
       "  </thead>\n",
       "  <tbody>\n",
       "    <tr>\n",
       "      <th>0</th>\n",
       "      <td>8hr arthritis pain</td>\n",
       "      <td>Acetaminophen</td>\n",
       "      <td>This drug is used to treat mild to moderate pa...</td>\n",
       "    </tr>\n",
       "    <tr>\n",
       "      <th>1</th>\n",
       "      <td>a &amp; d</td>\n",
       "      <td>Vitamins A And D</td>\n",
       "      <td>This medication is used as a moisturizer to tr...</td>\n",
       "    </tr>\n",
       "    <tr>\n",
       "      <th>2</th>\n",
       "      <td>a &amp; d diaper rash</td>\n",
       "      <td>Dimethic/Zinc Ox/Vits A,D/Aloe</td>\n",
       "      <td>Drug uses not available</td>\n",
       "    </tr>\n",
       "    <tr>\n",
       "      <th>3</th>\n",
       "      <td>a-hydrocort</td>\n",
       "      <td>Hydrocortisone Sod Succinate</td>\n",
       "      <td>This medication is used to treat various condi...</td>\n",
       "    </tr>\n",
       "    <tr>\n",
       "      <th>4</th>\n",
       "      <td>a-methapred</td>\n",
       "      <td>Methylprednisolone Sod Succ</td>\n",
       "      <td>This medication is used to treat conditions su...</td>\n",
       "    </tr>\n",
       "    <tr>\n",
       "      <th>5</th>\n",
       "      <td>abacavir</td>\n",
       "      <td>Abacavir Sulfate</td>\n",
       "      <td>This drug is used with other HIV medications t...</td>\n",
       "    </tr>\n",
       "    <tr>\n",
       "      <th>6</th>\n",
       "      <td>abacavir-lamivudine</td>\n",
       "      <td>Abacavir Sulfate/Lamivudine</td>\n",
       "      <td>This product contains 2 drugs: abacavir and la...</td>\n",
       "    </tr>\n",
       "    <tr>\n",
       "      <th>7</th>\n",
       "      <td>abacavir-lamivudine-zidovudine</td>\n",
       "      <td>Abacavir/Lamivudine/Zidovudine</td>\n",
       "      <td>This product contains 3 drugs: abacavir, lamiv...</td>\n",
       "    </tr>\n",
       "    <tr>\n",
       "      <th>8</th>\n",
       "      <td>abdek multivitamin</td>\n",
       "      <td>Pediatric Multivit 152/D3/K</td>\n",
       "      <td>This medication is a multivitamin product used...</td>\n",
       "    </tr>\n",
       "    <tr>\n",
       "      <th>9</th>\n",
       "      <td>abelcet</td>\n",
       "      <td>Amphotericin B Lipid Complex</td>\n",
       "      <td>This medication is used to treat a variety of ...</td>\n",
       "    </tr>\n",
       "  </tbody>\n",
       "</table>\n",
       "</div>"
      ],
      "text/plain": [
       "                       brand_name                    generic_name  \\\n",
       "0              8hr arthritis pain                   Acetaminophen   \n",
       "1                           a & d                Vitamins A And D   \n",
       "2               a & d diaper rash  Dimethic/Zinc Ox/Vits A,D/Aloe   \n",
       "3                     a-hydrocort    Hydrocortisone Sod Succinate   \n",
       "4                     a-methapred     Methylprednisolone Sod Succ   \n",
       "5                        abacavir                Abacavir Sulfate   \n",
       "6             abacavir-lamivudine     Abacavir Sulfate/Lamivudine   \n",
       "7  abacavir-lamivudine-zidovudine  Abacavir/Lamivudine/Zidovudine   \n",
       "8              abdek multivitamin     Pediatric Multivit 152/D3/K   \n",
       "9                         abelcet    Amphotericin B Lipid Complex   \n",
       "\n",
       "                                                uses  \n",
       "0  This drug is used to treat mild to moderate pa...  \n",
       "1  This medication is used as a moisturizer to tr...  \n",
       "2                            Drug uses not available  \n",
       "3  This medication is used to treat various condi...  \n",
       "4  This medication is used to treat conditions su...  \n",
       "5  This drug is used with other HIV medications t...  \n",
       "6  This product contains 2 drugs: abacavir and la...  \n",
       "7  This product contains 3 drugs: abacavir, lamiv...  \n",
       "8  This medication is a multivitamin product used...  \n",
       "9  This medication is used to treat a variety of ...  "
      ]
     },
     "execution_count": 8,
     "metadata": {},
     "output_type": "execute_result"
    }
   ],
   "source": [
    "drug_info.head(10)"
   ]
  },
  {
   "cell_type": "markdown",
   "id": "51b57221",
   "metadata": {},
   "source": [
    "#### Convert names to lowercase and strip \"*\" at beginning or end"
   ]
  },
  {
   "cell_type": "code",
   "execution_count": 9,
   "id": "31eadb59",
   "metadata": {},
   "outputs": [],
   "source": [
    "drug_info['generic_name'] = drug_info.generic_name.str.lower()\n",
    "drug_info[\"brand_name\"] = drug_info[\"brand_name\"].apply(lambda x: x.strip('*'))"
   ]
  },
  {
   "cell_type": "code",
   "execution_count": 10,
   "id": "7b78ec9d",
   "metadata": {},
   "outputs": [
    {
     "data": {
      "text/plain": [
       "(4593, 3)"
      ]
     },
     "execution_count": 10,
     "metadata": {},
     "output_type": "execute_result"
    }
   ],
   "source": [
    "drug_info.shape"
   ]
  },
  {
   "cell_type": "code",
   "execution_count": 11,
   "id": "5fde9173",
   "metadata": {},
   "outputs": [],
   "source": [
    "drug_info.drop_duplicates(inplace=True)"
   ]
  },
  {
   "cell_type": "code",
   "execution_count": 12,
   "id": "02f0f9eb",
   "metadata": {},
   "outputs": [
    {
     "data": {
      "text/plain": [
       "(4590, 3)"
      ]
     },
     "execution_count": 12,
     "metadata": {},
     "output_type": "execute_result"
    }
   ],
   "source": [
    "drug_info.shape"
   ]
  },
  {
   "cell_type": "markdown",
   "id": "888ca950",
   "metadata": {},
   "source": [
    "#### Dropped three duplicate rows of drugs. Then we'll drop rows without a drug use description."
   ]
  },
  {
   "cell_type": "code",
   "execution_count": 13,
   "id": "56db9e39",
   "metadata": {},
   "outputs": [
    {
     "data": {
      "text/plain": [
       "Drug uses not available                                                                                                                                                                                                                                                                                                                                                                                                                                                                                                                                                                                                                                                                                                                                                                                                   724\n",
       "This combination hormone medication is used to prevent pregnancy. It contains 2 hormones: a progestin and an estrogen. It works mainly by preventing the release of an egg (ovulation) during your menstrual cycle. It also makes vaginal fluid thicker to help prevent sperm from reaching an egg (fertilization) and changes the lining of the uterus (womb) to prevent attachment of a fertilized egg. If a fertilized egg does not attach to the uterus, it passes out of the body. Besides preventing pregnancy, birth control pills may make your periods more regular, decrease blood loss and painful periods, decrease your risk of ovarian cysts, and also treat acne. Using this medication does not protect you or your partner against sexually transmitted diseases (such as HIV, gonorrhea, chlamydia).     88\n",
       "This medication is a multivitamin and iron product used to treat or prevent vitamin deficiency due to poor diet, certain illnesses, or during pregnancy. Vitamins and iron are important building blocks of the body and help keep you in good health.                                                                                                                                                                                                                                                                                                                                                                                                                                                                                                                                                                     66\n",
       "Name: uses, dtype: int64"
      ]
     },
     "execution_count": 13,
     "metadata": {},
     "output_type": "execute_result"
    }
   ],
   "source": [
    "drug_info.uses.value_counts().head(3)"
   ]
  },
  {
   "cell_type": "code",
   "execution_count": 14,
   "id": "e75c8df5",
   "metadata": {},
   "outputs": [
    {
     "data": {
      "text/plain": [
       "(3866, 3)"
      ]
     },
     "execution_count": 14,
     "metadata": {},
     "output_type": "execute_result"
    }
   ],
   "source": [
    "drugs_with_use = drug_info[drug_info[\"uses\"] != \"Drug uses not available\"].copy()\n",
    "drugs_with_use.shape"
   ]
  },
  {
   "cell_type": "markdown",
   "id": "279f7467",
   "metadata": {},
   "source": [
    "#### We have left 88 hormone drugs for birth control with different names (or they'd have been dropped as duplicates). Additionally, there are lots of multivitamins in the data. Below, we show the number of unique uses."
   ]
  },
  {
   "cell_type": "code",
   "execution_count": 15,
   "id": "351a508a",
   "metadata": {},
   "outputs": [
    {
     "data": {
      "text/plain": [
       "(2106,)"
      ]
     },
     "execution_count": 15,
     "metadata": {},
     "output_type": "execute_result"
    }
   ],
   "source": [
    "drugs_with_use.uses.unique().shape"
   ]
  },
  {
   "cell_type": "markdown",
   "id": "b3a3dc8f",
   "metadata": {},
   "source": [
    "## 2. Cleaning the spending data"
   ]
  },
  {
   "cell_type": "code",
   "execution_count": 16,
   "id": "659ada23",
   "metadata": {
    "scrolled": true
   },
   "outputs": [],
   "source": [
    "med.loc[:,\"brand_name\"] = med[\"brand_name\"].str.lower()\n",
    "med.loc[:,\"generic_name\"] = med[\"generic_name\"].str.lower()"
   ]
  },
  {
   "cell_type": "code",
   "execution_count": 17,
   "id": "dc8ca04c",
   "metadata": {},
   "outputs": [
    {
     "data": {
      "text/plain": [
       "(70810, 10)"
      ]
     },
     "execution_count": 17,
     "metadata": {},
     "output_type": "execute_result"
    }
   ],
   "source": [
    "med.shape"
   ]
  },
  {
   "cell_type": "code",
   "execution_count": 18,
   "id": "ced52690",
   "metadata": {},
   "outputs": [],
   "source": [
    "med = med.dropna()"
   ]
  },
  {
   "cell_type": "code",
   "execution_count": 19,
   "id": "78cfdde8",
   "metadata": {},
   "outputs": [],
   "source": [
    "med.drop_duplicates(subset=['brand_name', 'generic_name', 'year', 'coverage_type'], inplace=True)"
   ]
  },
  {
   "cell_type": "code",
   "execution_count": 20,
   "id": "d859d9dd",
   "metadata": {},
   "outputs": [
    {
     "data": {
      "text/plain": [
       "(59573, 10)"
      ]
     },
     "execution_count": 20,
     "metadata": {},
     "output_type": "execute_result"
    }
   ],
   "source": [
    "med.shape"
   ]
  },
  {
   "cell_type": "code",
   "execution_count": 21,
   "id": "081e24cc",
   "metadata": {},
   "outputs": [],
   "source": [
    "med['coverage_type'] = med['coverage_type'].str.strip()\n",
    "med['brand_name'] = med['brand_name'].str.strip()\n",
    "med['generic_name'] = med['generic_name'].str.strip()\n"
   ]
  },
  {
   "cell_type": "code",
   "execution_count": 22,
   "id": "04328dd3",
   "metadata": {},
   "outputs": [
    {
     "data": {
      "text/plain": [
       "2016    9427\n",
       "2020    7971\n",
       "2019    7301\n",
       "2018    6652\n",
       "2015    6191\n",
       "2017    6001\n",
       "2014    5789\n",
       "2013    5325\n",
       "2012    4916\n",
       "Name: year, dtype: int64"
      ]
     },
     "execution_count": 22,
     "metadata": {},
     "output_type": "execute_result"
    }
   ],
   "source": [
    "med.year.value_counts()"
   ]
  },
  {
   "cell_type": "markdown",
   "id": "b0c227a2",
   "metadata": {},
   "source": [
    "#### Note the abnormally high counts for 2016. We have some duplicates in the 2016 data which we will drop below"
   ]
  },
  {
   "cell_type": "code",
   "execution_count": 23,
   "id": "12f899ce",
   "metadata": {},
   "outputs": [],
   "source": [
    "med.drop_duplicates(subset=['brand_name', 'generic_name', 'year', 'coverage_type'], inplace=True)"
   ]
  },
  {
   "cell_type": "code",
   "execution_count": 25,
   "id": "a6e0597e",
   "metadata": {},
   "outputs": [
    {
     "data": {
      "text/plain": [
       "brand_name                                      object\n",
       "generic_name                                    object\n",
       "number_of_manufacturers                          int64\n",
       "total_spending                                 float64\n",
       "total_dosage_units                             float64\n",
       "total_claims                                   float64\n",
       "average_spending_per_dosage_unit_(weighted)    float64\n",
       "average_spending_per_claim                     float64\n",
       "year                                             int64\n",
       "coverage_type                                   object\n",
       "dtype: object"
      ]
     },
     "execution_count": 25,
     "metadata": {},
     "output_type": "execute_result"
    }
   ],
   "source": [
    "med.dtypes"
   ]
  },
  {
   "cell_type": "code",
   "execution_count": 26,
   "id": "9e87c939",
   "metadata": {},
   "outputs": [
    {
     "data": {
      "text/html": [
       "<div>\n",
       "<style scoped>\n",
       "    .dataframe tbody tr th:only-of-type {\n",
       "        vertical-align: middle;\n",
       "    }\n",
       "\n",
       "    .dataframe tbody tr th {\n",
       "        vertical-align: top;\n",
       "    }\n",
       "\n",
       "    .dataframe thead th {\n",
       "        text-align: right;\n",
       "    }\n",
       "</style>\n",
       "<table border=\"1\" class=\"dataframe\">\n",
       "  <thead>\n",
       "    <tr style=\"text-align: right;\">\n",
       "      <th></th>\n",
       "      <th>brand_name</th>\n",
       "      <th>generic_name</th>\n",
       "      <th>uses</th>\n",
       "    </tr>\n",
       "  </thead>\n",
       "  <tbody>\n",
       "    <tr>\n",
       "      <th>0</th>\n",
       "      <td>8hr arthritis pain</td>\n",
       "      <td>acetaminophen</td>\n",
       "      <td>This drug is used to treat mild to moderate pa...</td>\n",
       "    </tr>\n",
       "    <tr>\n",
       "      <th>1</th>\n",
       "      <td>a &amp; d</td>\n",
       "      <td>vitamins a and d</td>\n",
       "      <td>This medication is used as a moisturizer to tr...</td>\n",
       "    </tr>\n",
       "    <tr>\n",
       "      <th>3</th>\n",
       "      <td>a-hydrocort</td>\n",
       "      <td>hydrocortisone sod succinate</td>\n",
       "      <td>This medication is used to treat various condi...</td>\n",
       "    </tr>\n",
       "    <tr>\n",
       "      <th>4</th>\n",
       "      <td>a-methapred</td>\n",
       "      <td>methylprednisolone sod succ</td>\n",
       "      <td>This medication is used to treat conditions su...</td>\n",
       "    </tr>\n",
       "    <tr>\n",
       "      <th>5</th>\n",
       "      <td>abacavir</td>\n",
       "      <td>abacavir sulfate</td>\n",
       "      <td>This drug is used with other HIV medications t...</td>\n",
       "    </tr>\n",
       "  </tbody>\n",
       "</table>\n",
       "</div>"
      ],
      "text/plain": [
       "           brand_name                  generic_name  \\\n",
       "0  8hr arthritis pain                 acetaminophen   \n",
       "1               a & d              vitamins a and d   \n",
       "3         a-hydrocort  hydrocortisone sod succinate   \n",
       "4         a-methapred   methylprednisolone sod succ   \n",
       "5            abacavir              abacavir sulfate   \n",
       "\n",
       "                                                uses  \n",
       "0  This drug is used to treat mild to moderate pa...  \n",
       "1  This medication is used as a moisturizer to tr...  \n",
       "3  This medication is used to treat various condi...  \n",
       "4  This medication is used to treat conditions su...  \n",
       "5  This drug is used with other HIV medications t...  "
      ]
     },
     "execution_count": 26,
     "metadata": {},
     "output_type": "execute_result"
    }
   ],
   "source": [
    "drugs_with_use.head()"
   ]
  },
  {
   "cell_type": "markdown",
   "id": "770874dd",
   "metadata": {},
   "source": [
    "### 3. Our data is looking much cleaner after dropping Null values and duplicates."
   ]
  },
  {
   "cell_type": "code",
   "execution_count": 27,
   "id": "74dcfa14",
   "metadata": {},
   "outputs": [],
   "source": [
    "# with a few high value columns, lets save space by dropping the decimals\n",
    "med.loc[:,[\"total_spending\",\"total_dosage_units\", \"total_claims\"]] = \\\n",
    "med.loc[:,[\"total_spending\",\"total_dosage_units\", \"total_claims\"]].astype(int)\n"
   ]
  },
  {
   "cell_type": "code",
   "execution_count": 28,
   "id": "0e14b69d",
   "metadata": {},
   "outputs": [
    {
     "data": {
      "text/html": [
       "<div>\n",
       "<style scoped>\n",
       "    .dataframe tbody tr th:only-of-type {\n",
       "        vertical-align: middle;\n",
       "    }\n",
       "\n",
       "    .dataframe tbody tr th {\n",
       "        vertical-align: top;\n",
       "    }\n",
       "\n",
       "    .dataframe thead th {\n",
       "        text-align: right;\n",
       "    }\n",
       "</style>\n",
       "<table border=\"1\" class=\"dataframe\">\n",
       "  <thead>\n",
       "    <tr style=\"text-align: right;\">\n",
       "      <th></th>\n",
       "      <th>brand_name</th>\n",
       "      <th>generic_name</th>\n",
       "      <th>number_of_manufacturers</th>\n",
       "      <th>total_spending</th>\n",
       "      <th>total_dosage_units</th>\n",
       "      <th>total_claims</th>\n",
       "      <th>average_spending_per_dosage_unit_(weighted)</th>\n",
       "      <th>average_spending_per_claim</th>\n",
       "      <th>year</th>\n",
       "      <th>coverage_type</th>\n",
       "    </tr>\n",
       "  </thead>\n",
       "  <tbody>\n",
       "    <tr>\n",
       "      <th>1</th>\n",
       "      <td>a &amp; d</td>\n",
       "      <td>vitamins a and d</td>\n",
       "      <td>1</td>\n",
       "      <td>470</td>\n",
       "      <td>7992</td>\n",
       "      <td>49</td>\n",
       "      <td>0.06</td>\n",
       "      <td>9.61</td>\n",
       "      <td>2016</td>\n",
       "      <td>medicaid</td>\n",
       "    </tr>\n",
       "    <tr>\n",
       "      <th>5</th>\n",
       "      <td>a-methapred</td>\n",
       "      <td>methylprednisolone sod succ</td>\n",
       "      <td>1</td>\n",
       "      <td>34520</td>\n",
       "      <td>2426</td>\n",
       "      <td>1189</td>\n",
       "      <td>15.28</td>\n",
       "      <td>29.03</td>\n",
       "      <td>2016</td>\n",
       "      <td>medicaid</td>\n",
       "    </tr>\n",
       "    <tr>\n",
       "      <th>6</th>\n",
       "      <td>abacavir</td>\n",
       "      <td>abacavir sulfate</td>\n",
       "      <td>7</td>\n",
       "      <td>7360772</td>\n",
       "      <td>1613893</td>\n",
       "      <td>27596</td>\n",
       "      <td>4.56</td>\n",
       "      <td>266.73</td>\n",
       "      <td>2016</td>\n",
       "      <td>medicaid</td>\n",
       "    </tr>\n",
       "    <tr>\n",
       "      <th>7</th>\n",
       "      <td>abacavir-lamivudine</td>\n",
       "      <td>abacavir sulfate/lamivudine</td>\n",
       "      <td>6</td>\n",
       "      <td>9569547</td>\n",
       "      <td>283169</td>\n",
       "      <td>9466</td>\n",
       "      <td>33.79</td>\n",
       "      <td>1010.94</td>\n",
       "      <td>2016</td>\n",
       "      <td>medicaid</td>\n",
       "    </tr>\n",
       "    <tr>\n",
       "      <th>8</th>\n",
       "      <td>abacavir-lamivudine-zidovudine</td>\n",
       "      <td>abacavir/lamivudine/zidovudine</td>\n",
       "      <td>1</td>\n",
       "      <td>6253710</td>\n",
       "      <td>284214</td>\n",
       "      <td>4804</td>\n",
       "      <td>22.00</td>\n",
       "      <td>1301.77</td>\n",
       "      <td>2016</td>\n",
       "      <td>medicaid</td>\n",
       "    </tr>\n",
       "  </tbody>\n",
       "</table>\n",
       "</div>"
      ],
      "text/plain": [
       "                       brand_name                    generic_name  \\\n",
       "1                           a & d                vitamins a and d   \n",
       "5                     a-methapred     methylprednisolone sod succ   \n",
       "6                        abacavir                abacavir sulfate   \n",
       "7             abacavir-lamivudine     abacavir sulfate/lamivudine   \n",
       "8  abacavir-lamivudine-zidovudine  abacavir/lamivudine/zidovudine   \n",
       "\n",
       "   number_of_manufacturers  total_spending  total_dosage_units  total_claims  \\\n",
       "1                        1             470                7992            49   \n",
       "5                        1           34520                2426          1189   \n",
       "6                        7         7360772             1613893         27596   \n",
       "7                        6         9569547              283169          9466   \n",
       "8                        1         6253710              284214          4804   \n",
       "\n",
       "   average_spending_per_dosage_unit_(weighted)  average_spending_per_claim  \\\n",
       "1                                         0.06                        9.61   \n",
       "5                                        15.28                       29.03   \n",
       "6                                         4.56                      266.73   \n",
       "7                                        33.79                     1010.94   \n",
       "8                                        22.00                     1301.77   \n",
       "\n",
       "   year coverage_type  \n",
       "1  2016      medicaid  \n",
       "5  2016      medicaid  \n",
       "6  2016      medicaid  \n",
       "7  2016      medicaid  \n",
       "8  2016      medicaid  "
      ]
     },
     "execution_count": 28,
     "metadata": {},
     "output_type": "execute_result"
    }
   ],
   "source": [
    "med.head()"
   ]
  },
  {
   "cell_type": "markdown",
   "id": "aceec6c2",
   "metadata": {},
   "source": [
    "#### One last missing value check:"
   ]
  },
  {
   "cell_type": "code",
   "execution_count": 29,
   "id": "255f7a3a",
   "metadata": {},
   "outputs": [
    {
     "data": {
      "text/plain": [
       "brand_name                                     0\n",
       "generic_name                                   0\n",
       "number_of_manufacturers                        0\n",
       "total_spending                                 0\n",
       "total_dosage_units                             0\n",
       "total_claims                                   0\n",
       "average_spending_per_dosage_unit_(weighted)    0\n",
       "average_spending_per_claim                     0\n",
       "year                                           0\n",
       "coverage_type                                  0\n",
       "dtype: int64"
      ]
     },
     "execution_count": 29,
     "metadata": {},
     "output_type": "execute_result"
    }
   ],
   "source": [
    "med.isna().sum()"
   ]
  },
  {
   "cell_type": "code",
   "execution_count": 30,
   "id": "8d3c187d",
   "metadata": {},
   "outputs": [
    {
     "data": {
      "text/plain": [
       "brand_name      0\n",
       "generic_name    0\n",
       "uses            0\n",
       "dtype: int64"
      ]
     },
     "execution_count": 30,
     "metadata": {},
     "output_type": "execute_result"
    }
   ],
   "source": [
    "drugs_with_use.isna().sum()"
   ]
  },
  {
   "cell_type": "code",
   "execution_count": 31,
   "id": "4c81bcdf",
   "metadata": {},
   "outputs": [],
   "source": [
    "drugs_with_use.to_csv(\"../data/clean/drug_uses_clean.csv\")\n",
    "med.to_csv(\"../data/clean/spending_cleaned.csv\")"
   ]
  }
 ],
 "metadata": {
  "kernelspec": {
   "display_name": "Python 3 (ipykernel)",
   "language": "python",
   "name": "python3"
  },
  "language_info": {
   "codemirror_mode": {
    "name": "ipython",
    "version": 3
   },
   "file_extension": ".py",
   "mimetype": "text/x-python",
   "name": "python",
   "nbconvert_exporter": "python",
   "pygments_lexer": "ipython3",
   "version": "3.9.7"
  }
 },
 "nbformat": 4,
 "nbformat_minor": 5
}
