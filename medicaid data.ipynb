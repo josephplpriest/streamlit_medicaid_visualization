{
 "cells": [
  {
   "cell_type": "code",
   "execution_count": 1,
   "id": "7fb55c6d",
   "metadata": {},
   "outputs": [],
   "source": [
    "import pandas as pd"
   ]
  },
  {
   "cell_type": "code",
   "execution_count": 72,
   "id": "7d5dc1bf",
   "metadata": {},
   "outputs": [],
   "source": [
    "class tidy_df():\n",
    "    def __init__(self):\n",
    "        self.indices = None\n",
    "        self.columns = None\n",
    "        self.values = list()\n",
    "    \n",
    "    def set_indices(self, df: pd.DataFrame, col_locs: tuple, header_row: int) -> pd.DataFrame:\n",
    "        start, end = col_locs\n",
    "        ind_df = df.iloc[header_row+1:,start:end+1]\n",
    "        ind_df.columns = df.iloc[header_row,start:end+1]\n",
    "        self.indices = ind_df\n",
    "        return None\n",
    " \n",
    "    def set_values(self, df: pd.DataFrame, col_start: int, col_width: int, header_row: int):\n",
    "        col_names = list(df.iloc[header_row]\n",
    "        \n",
    "        i = col_start\n",
    "        \n",
    "        \n",
    "        \n",
    "        while i < len(df.columns) - col_start:\n",
    "            print(df.iloc[header_row+1:, i:i+col_width])\n",
    "            \n",
    "            #print(df.iloc[header_row,i][-4:])\n",
    "            i += col_width\n",
    "        pass"
   ]
  },
  {
   "cell_type": "code",
   "execution_count": 27,
   "id": "a507caaa",
   "metadata": {},
   "outputs": [],
   "source": [
    "filename1 = \"data/DSD_MCD_R21_DYT20_Web.xlsx\"\n",
    "\n",
    "data_dict = pd.read_excel(filename1, sheet_name=0, header=1, nrows=14)\n",
    "drug_costs = pd.read_excel(filename1, sheet_name=1, skiprows=1)"
   ]
  },
  {
   "cell_type": "code",
   "execution_count": 74,
   "id": "2421ed72",
   "metadata": {},
   "outputs": [
    {
     "name": "stdout",
     "output_type": "stream",
     "text": [
      "       Unnamed: 3 Unnamed: 4 Unnamed: 5 Unnamed: 6   Unnamed: 7 Unnamed: 8\n",
      "2                                                                         \n",
      "3          470.91     7992.4         49    0.05892     9.610408          1\n",
      "4                                                                         \n",
      "5                                                                         \n",
      "6                                                                         \n",
      "...           ...        ...        ...        ...          ...        ...\n",
      "4392  13004501.55  543593.51      15191  24.087063   856.066194          0\n",
      "4393  79723771.22  3834143.6     102117  21.222024    780.71008          0\n",
      "4394   32131449.1     458316       4080  70.107631  7875.355172          0\n",
      "4395                                                                      \n",
      "4396                                                                      \n",
      "\n",
      "[4395 rows x 6 columns]\n",
      "      Unnamed: 9 Unnamed: 10 Unnamed: 11 Unnamed: 12  Unnamed: 13 Unnamed: 14\n",
      "2                                                                            \n",
      "3                                                                            \n",
      "4         406.33      3502.5          47    0.116011     8.645319           1\n",
      "5                                                                            \n",
      "6       19004.32         122          81  155.773115   234.621235           1\n",
      "...          ...         ...         ...         ...          ...         ...\n",
      "4392  2441949.81      117888        3079   20.557214   793.098347           0\n",
      "4393  8068179.93    432153.9       12458   20.483038   647.630433           0\n",
      "4394  49068876.2      600610        5646   85.529176  8690.909706           0\n",
      "4395  1280987.92  2283033.99        1269   22.695135  1009.446746           1\n",
      "4396                                                                         \n",
      "\n",
      "[4395 rows x 6 columns]\n",
      "      Unnamed: 15 Unnamed: 16 Unnamed: 17 Unnamed: 18  Unnamed: 19 Unnamed: 20\n",
      "2                                                                             \n",
      "3          252.22       36845          84    0.006845     3.002619           1\n",
      "4           213.7      2113.7          28    0.101102     7.632143           1\n",
      "5                                                                             \n",
      "6        20505.63          71          67   288.81169   306.054179           1\n",
      "...           ...         ...         ...         ...          ...         ...\n",
      "4392   2208171.01       98239        2639   22.259382   836.745362           0\n",
      "4393   6721211.74   345316.55        9343   22.876071   719.384752           1\n",
      "4394  84519375.17      887417        9362  105.687873  9027.918732           0\n",
      "4395     279105.8       12807          92  109.678234  3033.758696           1\n",
      "4396    225928.93     2839713         761    0.115061   296.884271           0\n",
      "\n",
      "[4395 rows x 6 columns]\n",
      "      Unnamed: 21 Unnamed: 22 Unnamed: 23 Unnamed: 24   Unnamed: 25  \\\n",
      "2          914.89       14720         181    0.062153      5.054641   \n",
      "3          770.31   51334.454         121    0.015006      6.366198   \n",
      "4           79.36        1102          17    0.072015      4.668235   \n",
      "5           90.59    1221.433          15    0.074167      6.039333   \n",
      "6         2121.53          35          33   60.615143     64.288788   \n",
      "...           ...         ...         ...         ...           ...   \n",
      "4392   2018082.12       83418        2416   23.200531    835.298891   \n",
      "4393   6759416.06   295501.76        8879   28.828663    761.281232   \n",
      "4394  49624933.74      344872        4850  158.548347  10231.945101   \n",
      "4395    180991.29       17269          54   74.600066   3351.690556   \n",
      "4396    146040.51      706110         660     0.20134      221.2735   \n",
      "\n",
      "     Unnamed: 26  \n",
      "2              1  \n",
      "3              1  \n",
      "4              1  \n",
      "5              1  \n",
      "6              1  \n",
      "...          ...  \n",
      "4392           0  \n",
      "4393           0  \n",
      "4394           0  \n",
      "4395           1  \n",
      "4396           0  \n",
      "\n",
      "[4395 rows x 6 columns]\n",
      "      Unnamed: 27 Unnamed: 28 Unnamed: 29 Unnamed: 30   Unnamed: 31  \\\n",
      "2          433.73        4600          49    0.094289      8.851633   \n",
      "3          322.51     15751.8          41    0.020474      7.866098   \n",
      "4          138.49      1483.5          19    0.093354      7.288947   \n",
      "5          204.19      1675.5          27    0.121868      7.562593   \n",
      "6        32255.83          64          69  503.997344    467.475797   \n",
      "...           ...         ...         ...         ...           ...   \n",
      "4392   1880206.77       78934        2265   22.715147    830.113364   \n",
      "4393   5312667.87   249442.75        7207   22.722319     737.15386   \n",
      "4394  34807960.04      227767        3414  162.801128  10195.653204   \n",
      "4395     69494.24       11863          43   20.024086   1616.145116   \n",
      "4396    109375.72     1043683         566      0.1381    193.243322   \n",
      "\n",
      "     Unnamed: 32  \n",
      "2              1  \n",
      "3              1  \n",
      "4              1  \n",
      "5              1  \n",
      "6              1  \n",
      "...          ...  \n",
      "4392           0  \n",
      "4393           0  \n",
      "4394           0  \n",
      "4395           1  \n",
      "4396           0  \n",
      "\n",
      "[4395 rows x 6 columns]\n"
     ]
    }
   ],
   "source": [
    "t = tidy_df()\n",
    "\n",
    "t.set_values(drug_costs, 3, 6, 1)"
   ]
  },
  {
   "cell_type": "code",
   "execution_count": null,
   "id": "0afafe4c",
   "metadata": {},
   "outputs": [],
   "source": [
    "test_df = pd.DataFrame({'a':[3,None, None], 'b':[5,4,None]})"
   ]
  },
  {
   "cell_type": "code",
   "execution_count": null,
   "id": "2eba0d41",
   "metadata": {},
   "outputs": [],
   "source": [
    "test_df.dropna()"
   ]
  },
  {
   "cell_type": "code",
   "execution_count": null,
   "id": "cca73092",
   "metadata": {},
   "outputs": [],
   "source": [
    "drug_costs"
   ]
  },
  {
   "cell_type": "code",
   "execution_count": null,
   "id": "2ab5cd32",
   "metadata": {},
   "outputs": [],
   "source": [
    "df = get_indices(drug_costs)\n",
    "df.head()"
   ]
  },
  {
   "cell_type": "code",
   "execution_count": null,
   "id": "a1bdad10",
   "metadata": {},
   "outputs": [],
   "source": []
  }
 ],
 "metadata": {
  "kernelspec": {
   "display_name": "Python 3 (ipykernel)",
   "language": "python",
   "name": "python3"
  },
  "language_info": {
   "codemirror_mode": {
    "name": "ipython",
    "version": 3
   },
   "file_extension": ".py",
   "mimetype": "text/x-python",
   "name": "python",
   "nbconvert_exporter": "python",
   "pygments_lexer": "ipython3",
   "version": "3.9.7"
  }
 },
 "nbformat": 4,
 "nbformat_minor": 5
}
