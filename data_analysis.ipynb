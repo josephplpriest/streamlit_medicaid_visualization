{
 "cells": [
  {
   "cell_type": "code",
   "execution_count": 1,
   "id": "41131ba9",
   "metadata": {},
   "outputs": [],
   "source": [
    "import pandas as pd\n",
    "from wordcloud import WordCloud\n",
    "import numpy as np\n",
    "import matplotlib.pyplot as plt\n",
    "from sklearn.feature_extraction.text import TfidfVectorizer"
   ]
  },
  {
   "cell_type": "code",
   "execution_count": 2,
   "id": "1858b6e1",
   "metadata": {},
   "outputs": [],
   "source": [
    "filename = \"data/cleaned.csv\""
   ]
  },
  {
   "cell_type": "markdown",
   "id": "ed1722af",
   "metadata": {},
   "source": [
    "## Check columns names"
   ]
  },
  {
   "cell_type": "code",
   "execution_count": 3,
   "id": "8d05ba90",
   "metadata": {},
   "outputs": [
    {
     "data": {
      "text/plain": [
       "Index(['Brand Name', 'Generic Name', 'Number of Manufacturers',\n",
       "       'Total Spending', 'Total Dosage Units', 'Total Claims',\n",
       "       'Average Spending Per Dosage Unit (Weighted)',\n",
       "       'Average Spending Per Claim', 'year', 'coverage_type'],\n",
       "      dtype='object')"
      ]
     },
     "execution_count": 3,
     "metadata": {},
     "output_type": "execute_result"
    }
   ],
   "source": [
    "med = pd.read_csv(filename, header=0, index_col=0)\n",
    "med.columns"
   ]
  },
  {
   "cell_type": "code",
   "execution_count": 4,
   "id": "99ccf130",
   "metadata": {},
   "outputs": [],
   "source": [
    "med.columns = [col.replace(' ', '_').lower() for col in list(med.columns)]"
   ]
  },
  {
   "cell_type": "code",
   "execution_count": 5,
   "id": "f74234c7",
   "metadata": {},
   "outputs": [
    {
     "data": {
      "text/plain": [
       "Index(['brand_name', 'generic_name', 'number_of_manufacturers',\n",
       "       'total_spending', 'total_dosage_units', 'total_claims',\n",
       "       'average_spending_per_dosage_unit_(weighted)',\n",
       "       'average_spending_per_claim', 'year', 'coverage_type'],\n",
       "      dtype='object')"
      ]
     },
     "execution_count": 5,
     "metadata": {},
     "output_type": "execute_result"
    }
   ],
   "source": [
    "med.columns"
   ]
  },
  {
   "cell_type": "code",
   "execution_count": 6,
   "id": "c1409533",
   "metadata": {},
   "outputs": [],
   "source": [
    "drugs = pd.read_csv('data/drug_info.csv', header=0, index_col=0)\n",
    "drugs[\"Brand\"] = drugs[\"Brand\"].apply(lambda x: x.strip('*'))"
   ]
  },
  {
   "cell_type": "code",
   "execution_count": 57,
   "id": "351a508a",
   "metadata": {},
   "outputs": [],
   "source": [
    "years = [2012, 2013]"
   ]
  },
  {
   "cell_type": "code",
   "execution_count": 58,
   "id": "48edc65a",
   "metadata": {},
   "outputs": [
    {
     "name": "stdout",
     "output_type": "stream",
     "text": [
      "\n",
      " 2012 \t\n",
      "                 brand_name total_spending coverage_type\n",
      "58389                nexium   2.12 Billion      medicare\n",
      "56722         advair diskus   1.88 Billion      medicare\n",
      "21979               abilify   1.88 Billion      medicaid\n",
      "57270               crestor   1.78 Billion      medicare\n",
      "56675               abilify   1.75 Billion      medicare\n",
      "58631                plavix   1.69 Billion      medicare\n",
      "58979               spiriva   1.60 Billion      medicare\n",
      "57290              cymbalta   1.43 Billion      medicare\n",
      "58341               namenda   1.32 Billion      medicare\n",
      "56875  atorvastatin calcium   1.27 Billion      medicare\n"
     ]
    },
    {
     "ename": "KeyError",
     "evalue": "'Brand'",
     "output_type": "error",
     "traceback": [
      "\u001b[0;31m---------------------------------------------------------------------------\u001b[0m",
      "\u001b[0;31mKeyError\u001b[0m                                  Traceback (most recent call last)",
      "\u001b[0;32m~/anaconda3/envs/md_drug/lib/python3.8/site-packages/pandas/core/indexes/base.py\u001b[0m in \u001b[0;36mget_loc\u001b[0;34m(self, key, method, tolerance)\u001b[0m\n\u001b[1;32m   3360\u001b[0m             \u001b[0;32mtry\u001b[0m\u001b[0;34m:\u001b[0m\u001b[0;34m\u001b[0m\u001b[0;34m\u001b[0m\u001b[0m\n\u001b[0;32m-> 3361\u001b[0;31m                 \u001b[0;32mreturn\u001b[0m \u001b[0mself\u001b[0m\u001b[0;34m.\u001b[0m\u001b[0m_engine\u001b[0m\u001b[0;34m.\u001b[0m\u001b[0mget_loc\u001b[0m\u001b[0;34m(\u001b[0m\u001b[0mcasted_key\u001b[0m\u001b[0;34m)\u001b[0m\u001b[0;34m\u001b[0m\u001b[0;34m\u001b[0m\u001b[0m\n\u001b[0m\u001b[1;32m   3362\u001b[0m             \u001b[0;32mexcept\u001b[0m \u001b[0mKeyError\u001b[0m \u001b[0;32mas\u001b[0m \u001b[0merr\u001b[0m\u001b[0;34m:\u001b[0m\u001b[0;34m\u001b[0m\u001b[0;34m\u001b[0m\u001b[0m\n",
      "\u001b[0;32m~/anaconda3/envs/md_drug/lib/python3.8/site-packages/pandas/_libs/index.pyx\u001b[0m in \u001b[0;36mpandas._libs.index.IndexEngine.get_loc\u001b[0;34m()\u001b[0m\n",
      "\u001b[0;32m~/anaconda3/envs/md_drug/lib/python3.8/site-packages/pandas/_libs/index.pyx\u001b[0m in \u001b[0;36mpandas._libs.index.IndexEngine.get_loc\u001b[0;34m()\u001b[0m\n",
      "\u001b[0;32mpandas/_libs/hashtable_class_helper.pxi\u001b[0m in \u001b[0;36mpandas._libs.hashtable.PyObjectHashTable.get_item\u001b[0;34m()\u001b[0m\n",
      "\u001b[0;32mpandas/_libs/hashtable_class_helper.pxi\u001b[0m in \u001b[0;36mpandas._libs.hashtable.PyObjectHashTable.get_item\u001b[0;34m()\u001b[0m\n",
      "\u001b[0;31mKeyError\u001b[0m: 'Brand'",
      "\nThe above exception was the direct cause of the following exception:\n",
      "\u001b[0;31mKeyError\u001b[0m                                  Traceback (most recent call last)",
      "\u001b[0;32m/tmp/ipykernel_11662/1422376110.py\u001b[0m in \u001b[0;36m<module>\u001b[0;34m\u001b[0m\n\u001b[1;32m      8\u001b[0m     \u001b[0mprint\u001b[0m\u001b[0;34m(\u001b[0m\u001b[0mdata_by_year\u001b[0m\u001b[0;34m[\u001b[0m\u001b[0;34m[\u001b[0m\u001b[0;34m'brand_name'\u001b[0m\u001b[0;34m,\u001b[0m \u001b[0;34m'total_spending'\u001b[0m\u001b[0;34m,\u001b[0m \u001b[0;34m'coverage_type'\u001b[0m\u001b[0;34m]\u001b[0m\u001b[0;34m]\u001b[0m\u001b[0;34m.\u001b[0m\u001b[0mhead\u001b[0m\u001b[0;34m(\u001b[0m\u001b[0;36m10\u001b[0m\u001b[0;34m)\u001b[0m\u001b[0;34m)\u001b[0m\u001b[0;34m\u001b[0m\u001b[0;34m\u001b[0m\u001b[0m\n\u001b[1;32m      9\u001b[0m     \u001b[0mnames\u001b[0m \u001b[0;34m=\u001b[0m \u001b[0mdata_by_year\u001b[0m\u001b[0;34m[\u001b[0m\u001b[0;34m\"brand_name\"\u001b[0m\u001b[0;34m]\u001b[0m\u001b[0;34m.\u001b[0m\u001b[0mhead\u001b[0m\u001b[0;34m(\u001b[0m\u001b[0;36m10\u001b[0m\u001b[0;34m)\u001b[0m\u001b[0;34m.\u001b[0m\u001b[0mapply\u001b[0m\u001b[0;34m(\u001b[0m\u001b[0;32mlambda\u001b[0m \u001b[0mx\u001b[0m\u001b[0;34m:\u001b[0m \u001b[0mx\u001b[0m\u001b[0;34m.\u001b[0m\u001b[0mstrip\u001b[0m\u001b[0;34m(\u001b[0m\u001b[0;34m)\u001b[0m\u001b[0;34m.\u001b[0m\u001b[0mlower\u001b[0m\u001b[0;34m(\u001b[0m\u001b[0;34m)\u001b[0m\u001b[0;34m)\u001b[0m\u001b[0;34m.\u001b[0m\u001b[0munique\u001b[0m\u001b[0;34m(\u001b[0m\u001b[0;34m)\u001b[0m\u001b[0;34m\u001b[0m\u001b[0;34m\u001b[0m\u001b[0m\n\u001b[0;32m---> 10\u001b[0;31m     \u001b[0mtext\u001b[0m \u001b[0;34m=\u001b[0m \u001b[0;34m''\u001b[0m\u001b[0;34m.\u001b[0m\u001b[0mjoin\u001b[0m\u001b[0;34m(\u001b[0m\u001b[0mdrugs\u001b[0m\u001b[0;34m[\u001b[0m\u001b[0mdrugs\u001b[0m\u001b[0;34m[\u001b[0m\u001b[0;34m\"Brand\"\u001b[0m\u001b[0;34m]\u001b[0m\u001b[0;34m.\u001b[0m\u001b[0misin\u001b[0m\u001b[0;34m(\u001b[0m\u001b[0mnames\u001b[0m\u001b[0;34m)\u001b[0m\u001b[0;34m]\u001b[0m\u001b[0;34m.\u001b[0m\u001b[0mUses\u001b[0m\u001b[0;34m)\u001b[0m\u001b[0;34m\u001b[0m\u001b[0;34m\u001b[0m\u001b[0m\n\u001b[0m\u001b[1;32m     11\u001b[0m     \u001b[0mwc\u001b[0m \u001b[0;34m=\u001b[0m \u001b[0mWordCloud\u001b[0m\u001b[0;34m(\u001b[0m\u001b[0;34m)\u001b[0m\u001b[0;34m.\u001b[0m\u001b[0mgenerate\u001b[0m\u001b[0;34m(\u001b[0m\u001b[0mtext\u001b[0m\u001b[0;34m)\u001b[0m\u001b[0;34m\u001b[0m\u001b[0;34m\u001b[0m\u001b[0m\n\u001b[1;32m     12\u001b[0m \u001b[0;34m\u001b[0m\u001b[0m\n",
      "\u001b[0;32m~/anaconda3/envs/md_drug/lib/python3.8/site-packages/pandas/core/frame.py\u001b[0m in \u001b[0;36m__getitem__\u001b[0;34m(self, key)\u001b[0m\n\u001b[1;32m   3456\u001b[0m             \u001b[0;32mif\u001b[0m \u001b[0mself\u001b[0m\u001b[0;34m.\u001b[0m\u001b[0mcolumns\u001b[0m\u001b[0;34m.\u001b[0m\u001b[0mnlevels\u001b[0m \u001b[0;34m>\u001b[0m \u001b[0;36m1\u001b[0m\u001b[0;34m:\u001b[0m\u001b[0;34m\u001b[0m\u001b[0;34m\u001b[0m\u001b[0m\n\u001b[1;32m   3457\u001b[0m                 \u001b[0;32mreturn\u001b[0m \u001b[0mself\u001b[0m\u001b[0;34m.\u001b[0m\u001b[0m_getitem_multilevel\u001b[0m\u001b[0;34m(\u001b[0m\u001b[0mkey\u001b[0m\u001b[0;34m)\u001b[0m\u001b[0;34m\u001b[0m\u001b[0;34m\u001b[0m\u001b[0m\n\u001b[0;32m-> 3458\u001b[0;31m             \u001b[0mindexer\u001b[0m \u001b[0;34m=\u001b[0m \u001b[0mself\u001b[0m\u001b[0;34m.\u001b[0m\u001b[0mcolumns\u001b[0m\u001b[0;34m.\u001b[0m\u001b[0mget_loc\u001b[0m\u001b[0;34m(\u001b[0m\u001b[0mkey\u001b[0m\u001b[0;34m)\u001b[0m\u001b[0;34m\u001b[0m\u001b[0;34m\u001b[0m\u001b[0m\n\u001b[0m\u001b[1;32m   3459\u001b[0m             \u001b[0;32mif\u001b[0m \u001b[0mis_integer\u001b[0m\u001b[0;34m(\u001b[0m\u001b[0mindexer\u001b[0m\u001b[0;34m)\u001b[0m\u001b[0;34m:\u001b[0m\u001b[0;34m\u001b[0m\u001b[0;34m\u001b[0m\u001b[0m\n\u001b[1;32m   3460\u001b[0m                 \u001b[0mindexer\u001b[0m \u001b[0;34m=\u001b[0m \u001b[0;34m[\u001b[0m\u001b[0mindexer\u001b[0m\u001b[0;34m]\u001b[0m\u001b[0;34m\u001b[0m\u001b[0;34m\u001b[0m\u001b[0m\n",
      "\u001b[0;32m~/anaconda3/envs/md_drug/lib/python3.8/site-packages/pandas/core/indexes/base.py\u001b[0m in \u001b[0;36mget_loc\u001b[0;34m(self, key, method, tolerance)\u001b[0m\n\u001b[1;32m   3361\u001b[0m                 \u001b[0;32mreturn\u001b[0m \u001b[0mself\u001b[0m\u001b[0;34m.\u001b[0m\u001b[0m_engine\u001b[0m\u001b[0;34m.\u001b[0m\u001b[0mget_loc\u001b[0m\u001b[0;34m(\u001b[0m\u001b[0mcasted_key\u001b[0m\u001b[0;34m)\u001b[0m\u001b[0;34m\u001b[0m\u001b[0;34m\u001b[0m\u001b[0m\n\u001b[1;32m   3362\u001b[0m             \u001b[0;32mexcept\u001b[0m \u001b[0mKeyError\u001b[0m \u001b[0;32mas\u001b[0m \u001b[0merr\u001b[0m\u001b[0;34m:\u001b[0m\u001b[0;34m\u001b[0m\u001b[0;34m\u001b[0m\u001b[0m\n\u001b[0;32m-> 3363\u001b[0;31m                 \u001b[0;32mraise\u001b[0m \u001b[0mKeyError\u001b[0m\u001b[0;34m(\u001b[0m\u001b[0mkey\u001b[0m\u001b[0;34m)\u001b[0m \u001b[0;32mfrom\u001b[0m \u001b[0merr\u001b[0m\u001b[0;34m\u001b[0m\u001b[0;34m\u001b[0m\u001b[0m\n\u001b[0m\u001b[1;32m   3364\u001b[0m \u001b[0;34m\u001b[0m\u001b[0m\n\u001b[1;32m   3365\u001b[0m         \u001b[0;32mif\u001b[0m \u001b[0mis_scalar\u001b[0m\u001b[0;34m(\u001b[0m\u001b[0mkey\u001b[0m\u001b[0;34m)\u001b[0m \u001b[0;32mand\u001b[0m \u001b[0misna\u001b[0m\u001b[0;34m(\u001b[0m\u001b[0mkey\u001b[0m\u001b[0;34m)\u001b[0m \u001b[0;32mand\u001b[0m \u001b[0;32mnot\u001b[0m \u001b[0mself\u001b[0m\u001b[0;34m.\u001b[0m\u001b[0mhasnans\u001b[0m\u001b[0;34m:\u001b[0m\u001b[0;34m\u001b[0m\u001b[0;34m\u001b[0m\u001b[0m\n",
      "\u001b[0;31mKeyError\u001b[0m: 'Brand'"
     ]
    }
   ],
   "source": [
    "for year in years:\n",
    "    print('\\n', year, '\\t')\n",
    "    data_by_year = med[med['year']==year].copy()\n",
    "    data_by_year.sort_values(\"total_spending\", ascending=False, inplace=True)\n",
    "    data_by_year['total_spending'] = data_by_year['total_spending'].astype(str).apply(\n",
    "                                                            lambda x: x[0] + \".\"+ x[1:3] + \" Billion\")\n",
    "    \n",
    "    print(data_by_year[['brand_name', 'total_spending', 'coverage_type']].head(10))\n",
    "    names = data_by_year[\"brand_name\"].head(10).apply(lambda x: x.strip().lower()).unique()\n",
    "    text = ''.join(drugs[drugs[\"Brand\"].isin(names)].Uses)\n",
    "    wc = WordCloud().generate(text)\n",
    "    \n",
    "    plt.imshow(wc, interpolation='bilinear')\n",
    "    plt.axis(\"off\")\n",
    "    plt.show()"
   ]
  },
  {
   "cell_type": "code",
   "execution_count": 9,
   "id": "659ada23",
   "metadata": {
    "scrolled": true
   },
   "outputs": [],
   "source": [
    "med.loc[:,\"brand_name\"] = med[\"brand_name\"].str.lower()\n",
    "med.loc[:,\"generic_name\"] = med[\"generic_name\"].str.lower()"
   ]
  },
  {
   "cell_type": "code",
   "execution_count": 10,
   "id": "ced52690",
   "metadata": {},
   "outputs": [],
   "source": [
    "med = med.dropna()"
   ]
  },
  {
   "cell_type": "code",
   "execution_count": 17,
   "id": "78cfdde8",
   "metadata": {},
   "outputs": [],
   "source": [
    "med.drop_duplicates(subset=['brand_name', 'generic_name', 'year', 'coverage_type'], inplace=True)"
   ]
  },
  {
   "cell_type": "code",
   "execution_count": 27,
   "id": "b1fb014b",
   "metadata": {},
   "outputs": [],
   "source": [
    "med['coverage_type'] = med['coverage_type'].str.strip()\n",
    "med['brand_name'] = med['brand_name'].str.strip()\n",
    "med['generic_name'] = med['generic_name'].str.strip()"
   ]
  },
  {
   "cell_type": "code",
   "execution_count": 28,
   "id": "a40bf33c",
   "metadata": {},
   "outputs": [],
   "source": [
    "med.drop_duplicates(subset=['brand_name', 'generic_name', 'year', 'coverage_type'], inplace=True)"
   ]
  },
  {
   "cell_type": "code",
   "execution_count": 30,
   "id": "9445bbb3",
   "metadata": {},
   "outputs": [
    {
     "data": {
      "text/html": [
       "<div>\n",
       "<style scoped>\n",
       "    .dataframe tbody tr th:only-of-type {\n",
       "        vertical-align: middle;\n",
       "    }\n",
       "\n",
       "    .dataframe tbody tr th {\n",
       "        vertical-align: top;\n",
       "    }\n",
       "\n",
       "    .dataframe thead th {\n",
       "        text-align: right;\n",
       "    }\n",
       "</style>\n",
       "<table border=\"1\" class=\"dataframe\">\n",
       "  <thead>\n",
       "    <tr style=\"text-align: right;\">\n",
       "      <th></th>\n",
       "      <th>brand_name</th>\n",
       "      <th>generic_name</th>\n",
       "      <th>number_of_manufacturers</th>\n",
       "      <th>total_spending</th>\n",
       "      <th>total_dosage_units</th>\n",
       "      <th>total_claims</th>\n",
       "      <th>average_spending_per_dosage_unit_(weighted)</th>\n",
       "      <th>average_spending_per_claim</th>\n",
       "      <th>year</th>\n",
       "      <th>coverage_type</th>\n",
       "    </tr>\n",
       "  </thead>\n",
       "  <tbody>\n",
       "    <tr>\n",
       "      <th>40170</th>\n",
       "      <td>harvoni</td>\n",
       "      <td>ledipasvir/sofosbuvir</td>\n",
       "      <td>1</td>\n",
       "      <td>4.398692e+09</td>\n",
       "      <td>3.932401e+06</td>\n",
       "      <td>141670.0</td>\n",
       "      <td>1118.58</td>\n",
       "      <td>31048.86</td>\n",
       "      <td>2016</td>\n",
       "      <td>medicare</td>\n",
       "    </tr>\n",
       "    <tr>\n",
       "      <th>41476</th>\n",
       "      <td>revlimid</td>\n",
       "      <td>lenalidomide</td>\n",
       "      <td>1</td>\n",
       "      <td>2.661153e+09</td>\n",
       "      <td>4.895379e+06</td>\n",
       "      <td>239052.0</td>\n",
       "      <td>543.59</td>\n",
       "      <td>11132.11</td>\n",
       "      <td>2016</td>\n",
       "      <td>medicare</td>\n",
       "    </tr>\n",
       "    <tr>\n",
       "      <th>40469</th>\n",
       "      <td>lantus solostar</td>\n",
       "      <td>insulin glargine,hum.rec.anlog</td>\n",
       "      <td>1</td>\n",
       "      <td>2.526126e+09</td>\n",
       "      <td>1.026791e+08</td>\n",
       "      <td>5028646.0</td>\n",
       "      <td>24.60</td>\n",
       "      <td>502.35</td>\n",
       "      <td>2016</td>\n",
       "      <td>medicare</td>\n",
       "    </tr>\n",
       "    <tr>\n",
       "      <th>40366</th>\n",
       "      <td>januvia</td>\n",
       "      <td>sitagliptin phosphate</td>\n",
       "      <td>1</td>\n",
       "      <td>2.440092e+09</td>\n",
       "      <td>2.036297e+08</td>\n",
       "      <td>4742650.0</td>\n",
       "      <td>11.99</td>\n",
       "      <td>514.50</td>\n",
       "      <td>2016</td>\n",
       "      <td>medicare</td>\n",
       "    </tr>\n",
       "    <tr>\n",
       "      <th>39497</th>\n",
       "      <td>crestor</td>\n",
       "      <td>rosuvastatin calcium</td>\n",
       "      <td>1</td>\n",
       "      <td>2.322796e+09</td>\n",
       "      <td>2.856839e+08</td>\n",
       "      <td>6012644.0</td>\n",
       "      <td>8.13</td>\n",
       "      <td>386.32</td>\n",
       "      <td>2016</td>\n",
       "      <td>medicare</td>\n",
       "    </tr>\n",
       "    <tr>\n",
       "      <th>...</th>\n",
       "      <td>...</td>\n",
       "      <td>...</td>\n",
       "      <td>...</td>\n",
       "      <td>...</td>\n",
       "      <td>...</td>\n",
       "      <td>...</td>\n",
       "      <td>...</td>\n",
       "      <td>...</td>\n",
       "      <td>...</td>\n",
       "      <td>...</td>\n",
       "    </tr>\n",
       "    <tr>\n",
       "      <th>315</th>\n",
       "      <td>aspirin ec</td>\n",
       "      <td>aspirin</td>\n",
       "      <td>3</td>\n",
       "      <td>2.056000e+01</td>\n",
       "      <td>1.529000e+03</td>\n",
       "      <td>51.0</td>\n",
       "      <td>0.01</td>\n",
       "      <td>0.40</td>\n",
       "      <td>2016</td>\n",
       "      <td>medicaid</td>\n",
       "    </tr>\n",
       "    <tr>\n",
       "      <th>251</th>\n",
       "      <td>antacid</td>\n",
       "      <td>mag hydrox/aluminum hyd/simeth</td>\n",
       "      <td>1</td>\n",
       "      <td>9.460000e+00</td>\n",
       "      <td>1.200000e+03</td>\n",
       "      <td>11.0</td>\n",
       "      <td>0.01</td>\n",
       "      <td>0.86</td>\n",
       "      <td>2016</td>\n",
       "      <td>medicaid</td>\n",
       "    </tr>\n",
       "    <tr>\n",
       "      <th>35867</th>\n",
       "      <td>camphor</td>\n",
       "      <td>camphor</td>\n",
       "      <td>1</td>\n",
       "      <td>2.440000e+00</td>\n",
       "      <td>1.191200e+02</td>\n",
       "      <td>54.0</td>\n",
       "      <td>0.02</td>\n",
       "      <td>0.05</td>\n",
       "      <td>2016</td>\n",
       "      <td>medicaid</td>\n",
       "    </tr>\n",
       "    <tr>\n",
       "      <th>976</th>\n",
       "      <td>daily vitamin formula-iron</td>\n",
       "      <td>multivitamin/iron/folic acid</td>\n",
       "      <td>1</td>\n",
       "      <td>2.240000e+00</td>\n",
       "      <td>5.100000e+02</td>\n",
       "      <td>17.0</td>\n",
       "      <td>0.00</td>\n",
       "      <td>0.13</td>\n",
       "      <td>2016</td>\n",
       "      <td>medicaid</td>\n",
       "    </tr>\n",
       "    <tr>\n",
       "      <th>35975</th>\n",
       "      <td>children's acetaminophen</td>\n",
       "      <td>acetaminophen</td>\n",
       "      <td>1</td>\n",
       "      <td>0.000000e+00</td>\n",
       "      <td>8.500000e+01</td>\n",
       "      <td>85.0</td>\n",
       "      <td>0.00</td>\n",
       "      <td>0.00</td>\n",
       "      <td>2016</td>\n",
       "      <td>medicaid</td>\n",
       "    </tr>\n",
       "  </tbody>\n",
       "</table>\n",
       "<p>6682 rows × 10 columns</p>\n",
       "</div>"
      ],
      "text/plain": [
       "                       brand_name                    generic_name  \\\n",
       "40170                     harvoni           ledipasvir/sofosbuvir   \n",
       "41476                    revlimid                    lenalidomide   \n",
       "40469             lantus solostar  insulin glargine,hum.rec.anlog   \n",
       "40366                     januvia           sitagliptin phosphate   \n",
       "39497                     crestor            rosuvastatin calcium   \n",
       "...                           ...                             ...   \n",
       "315                    aspirin ec                         aspirin   \n",
       "251                       antacid  mag hydrox/aluminum hyd/simeth   \n",
       "35867                     camphor                         camphor   \n",
       "976    daily vitamin formula-iron    multivitamin/iron/folic acid   \n",
       "35975    children's acetaminophen                   acetaminophen   \n",
       "\n",
       "       number_of_manufacturers  total_spending  total_dosage_units  \\\n",
       "40170                        1    4.398692e+09        3.932401e+06   \n",
       "41476                        1    2.661153e+09        4.895379e+06   \n",
       "40469                        1    2.526126e+09        1.026791e+08   \n",
       "40366                        1    2.440092e+09        2.036297e+08   \n",
       "39497                        1    2.322796e+09        2.856839e+08   \n",
       "...                        ...             ...                 ...   \n",
       "315                          3    2.056000e+01        1.529000e+03   \n",
       "251                          1    9.460000e+00        1.200000e+03   \n",
       "35867                        1    2.440000e+00        1.191200e+02   \n",
       "976                          1    2.240000e+00        5.100000e+02   \n",
       "35975                        1    0.000000e+00        8.500000e+01   \n",
       "\n",
       "       total_claims  average_spending_per_dosage_unit_(weighted)  \\\n",
       "40170      141670.0                                      1118.58   \n",
       "41476      239052.0                                       543.59   \n",
       "40469     5028646.0                                        24.60   \n",
       "40366     4742650.0                                        11.99   \n",
       "39497     6012644.0                                         8.13   \n",
       "...             ...                                          ...   \n",
       "315            51.0                                         0.01   \n",
       "251            11.0                                         0.01   \n",
       "35867          54.0                                         0.02   \n",
       "976            17.0                                         0.00   \n",
       "35975          85.0                                         0.00   \n",
       "\n",
       "       average_spending_per_claim  year coverage_type  \n",
       "40170                    31048.86  2016      medicare  \n",
       "41476                    11132.11  2016      medicare  \n",
       "40469                      502.35  2016      medicare  \n",
       "40366                      514.50  2016      medicare  \n",
       "39497                      386.32  2016      medicare  \n",
       "...                           ...   ...           ...  \n",
       "315                          0.40  2016      medicaid  \n",
       "251                          0.86  2016      medicaid  \n",
       "35867                        0.05  2016      medicaid  \n",
       "976                          0.13  2016      medicaid  \n",
       "35975                        0.00  2016      medicaid  \n",
       "\n",
       "[6682 rows x 10 columns]"
      ]
     },
     "execution_count": 30,
     "metadata": {},
     "output_type": "execute_result"
    }
   ],
   "source": [
    "med[med['year']==2016].sort_values('total_spending', ascending=False)"
   ]
  },
  {
   "cell_type": "code",
   "execution_count": 34,
   "id": "029287c1",
   "metadata": {},
   "outputs": [],
   "source": [
    "drugs.loc[:,'Uses'] = drugs.loc[:,'Uses'].apply(lambda x: np.nan if x == \"Drug uses not available\" else x)"
   ]
  },
  {
   "cell_type": "code",
   "execution_count": 14,
   "id": "96ee4ebc",
   "metadata": {},
   "outputs": [
    {
     "data": {
      "text/html": [
       "<div>\n",
       "<style scoped>\n",
       "    .dataframe tbody tr th:only-of-type {\n",
       "        vertical-align: middle;\n",
       "    }\n",
       "\n",
       "    .dataframe tbody tr th {\n",
       "        vertical-align: top;\n",
       "    }\n",
       "\n",
       "    .dataframe thead th {\n",
       "        text-align: right;\n",
       "    }\n",
       "</style>\n",
       "<table border=\"1\" class=\"dataframe\">\n",
       "  <thead>\n",
       "    <tr style=\"text-align: right;\">\n",
       "      <th></th>\n",
       "      <th>brand_name</th>\n",
       "      <th>generic_name</th>\n",
       "      <th>number_of_manufacturers</th>\n",
       "      <th>total_spending</th>\n",
       "      <th>total_dosage_units</th>\n",
       "      <th>total_claims</th>\n",
       "      <th>average_spending_per_dosage_unit_(weighted)</th>\n",
       "      <th>average_spending_per_claim</th>\n",
       "      <th>year</th>\n",
       "      <th>coverage_type</th>\n",
       "    </tr>\n",
       "  </thead>\n",
       "  <tbody>\n",
       "    <tr>\n",
       "      <th>21931</th>\n",
       "      <td>zolgensma</td>\n",
       "      <td>onasemnogene abeparvovec-xioi</td>\n",
       "      <td>1</td>\n",
       "      <td>59674421.27</td>\n",
       "      <td>36.59</td>\n",
       "      <td>34.0</td>\n",
       "      <td>1631028.0</td>\n",
       "      <td>1755130.04</td>\n",
       "      <td>2020</td>\n",
       "      <td>medicaid</td>\n",
       "    </tr>\n",
       "  </tbody>\n",
       "</table>\n",
       "</div>"
      ],
      "text/plain": [
       "      brand_name                   generic_name  number_of_manufacturers  \\\n",
       "21931  zolgensma  onasemnogene abeparvovec-xioi                        1   \n",
       "\n",
       "       total_spending  total_dosage_units  total_claims  \\\n",
       "21931     59674421.27               36.59          34.0   \n",
       "\n",
       "       average_spending_per_dosage_unit_(weighted)  \\\n",
       "21931                                    1631028.0   \n",
       "\n",
       "       average_spending_per_claim  year coverage_type  \n",
       "21931                  1755130.04  2020      medicaid  "
      ]
     },
     "execution_count": 14,
     "metadata": {},
     "output_type": "execute_result"
    }
   ],
   "source": [
    "med[med['average_spending_per_claim'] == med['average_spending_per_claim'].max()]"
   ]
  },
  {
   "cell_type": "code",
   "execution_count": 33,
   "id": "111e7577",
   "metadata": {},
   "outputs": [
    {
     "data": {
      "text/plain": [
       "Index(['brand_name', 'generic_name', 'number_of_manufacturers',\n",
       "       'total_spending', 'total_dosage_units', 'total_claims',\n",
       "       'average_spending_per_dosage_unit_(weighted)',\n",
       "       'average_spending_per_claim', 'year', 'coverage_type'],\n",
       "      dtype='object')"
      ]
     },
     "execution_count": 33,
     "metadata": {},
     "output_type": "execute_result"
    }
   ],
   "source": [
    "med.columns"
   ]
  },
  {
   "cell_type": "code",
   "execution_count": 49,
   "id": "101ff4c7",
   "metadata": {},
   "outputs": [],
   "source": [
    "drugs.columns = [x.lower() for x in drugs.columns.values]"
   ]
  },
  {
   "cell_type": "code",
   "execution_count": 51,
   "id": "87ec593d",
   "metadata": {},
   "outputs": [],
   "source": [
    "drugs.loc[:,\"generic\"] = drugs[\"generic\"].str.lower()"
   ]
  },
  {
   "cell_type": "code",
   "execution_count": 53,
   "id": "647d583b",
   "metadata": {},
   "outputs": [
    {
     "data": {
      "text/plain": [
       "0    This drug is used to treat mild to moderate pa...\n",
       "1    This medication is used as a moisturizer to tr...\n",
       "2                                                  NaN\n",
       "3    This medication is used to treat various condi...\n",
       "4    This medication is used to treat conditions su...\n",
       "Name: uses, dtype: object"
      ]
     },
     "execution_count": 53,
     "metadata": {},
     "output_type": "execute_result"
    }
   ],
   "source": [
    "drugs['treatment'] = drugs['uses'].split(\".\").apply"
   ]
  },
  {
   "cell_type": "code",
   "execution_count": 77,
   "id": "0e401bf6",
   "metadata": {},
   "outputs": [
    {
     "data": {
      "text/html": [
       "<div>\n",
       "<style scoped>\n",
       "    .dataframe tbody tr th:only-of-type {\n",
       "        vertical-align: middle;\n",
       "    }\n",
       "\n",
       "    .dataframe tbody tr th {\n",
       "        vertical-align: top;\n",
       "    }\n",
       "\n",
       "    .dataframe thead th {\n",
       "        text-align: right;\n",
       "    }\n",
       "</style>\n",
       "<table border=\"1\" class=\"dataframe\">\n",
       "  <thead>\n",
       "    <tr style=\"text-align: right;\">\n",
       "      <th></th>\n",
       "      <th>brand_name</th>\n",
       "      <th>generic_name</th>\n",
       "      <th>number_of_manufacturers</th>\n",
       "      <th>total_spending</th>\n",
       "      <th>total_dosage_units</th>\n",
       "      <th>total_claims</th>\n",
       "      <th>average_spending_per_dosage_unit_(weighted)</th>\n",
       "      <th>average_spending_per_claim</th>\n",
       "      <th>year</th>\n",
       "      <th>coverage_type</th>\n",
       "    </tr>\n",
       "  </thead>\n",
       "  <tbody>\n",
       "    <tr>\n",
       "      <th>59625</th>\n",
       "      <td>amlodipine besylate</td>\n",
       "      <td>amlodipine besylate</td>\n",
       "      <td>27</td>\n",
       "      <td>3.289298e+08</td>\n",
       "      <td>1.636371e+09</td>\n",
       "      <td>33300649.0</td>\n",
       "      <td>0.21</td>\n",
       "      <td>9.88</td>\n",
       "      <td>2013</td>\n",
       "      <td>medicare</td>\n",
       "    </tr>\n",
       "  </tbody>\n",
       "</table>\n",
       "</div>"
      ],
      "text/plain": [
       "                brand_name         generic_name  number_of_manufacturers  \\\n",
       "59625  amlodipine besylate  amlodipine besylate                       27   \n",
       "\n",
       "       total_spending  total_dosage_units  total_claims  \\\n",
       "59625    3.289298e+08        1.636371e+09    33300649.0   \n",
       "\n",
       "       average_spending_per_dosage_unit_(weighted)  \\\n",
       "59625                                         0.21   \n",
       "\n",
       "       average_spending_per_claim  year coverage_type  \n",
       "59625                        9.88  2013      medicare  "
      ]
     },
     "execution_count": 77,
     "metadata": {},
     "output_type": "execute_result"
    }
   ],
   "source": [
    "med[med['total_spending'] == med[med['average_spending_per_claim']<=10]['total_spending'].max()]"
   ]
  },
  {
   "cell_type": "code",
   "execution_count": 84,
   "id": "e5b5c5e8",
   "metadata": {},
   "outputs": [
    {
     "name": "stdout",
     "output_type": "stream",
     "text": [
      "['Amlodipine is used with or without other medications to treat high blood pressure. Lowering high blood pressure helps prevent strokes, heart attacks, and kidney problems. Amlodipine belongs to a class of drugs known as calcium channel blockers. It works by relaxing blood vessels so blood can flow more easily. Amlodipine is also used to prevent certain types of chest pain (angina). It may help to increase your ability to exercise and decrease the frequency of angina attacks. It should not be used to treat attacks of chest pain when they occur. Use other medications (such as sublingual nitroglycerin) to relieve attacks of chest pain as directed by your doctor.']\n"
     ]
    }
   ],
   "source": [
    "print(drugs[drugs['brand']==\"amlodipine besylate\"]['uses'].values)"
   ]
  },
  {
   "cell_type": "code",
   "execution_count": null,
   "id": "1840815b",
   "metadata": {},
   "outputs": [],
   "source": []
  }
 ],
 "metadata": {
  "kernelspec": {
   "display_name": "Python 3 (ipykernel)",
   "language": "python",
   "name": "python3"
  },
  "language_info": {
   "codemirror_mode": {
    "name": "ipython",
    "version": 3
   },
   "file_extension": ".py",
   "mimetype": "text/x-python",
   "name": "python",
   "nbconvert_exporter": "python",
   "pygments_lexer": "ipython3",
   "version": "3.8.12"
  }
 },
 "nbformat": 4,
 "nbformat_minor": 5
}
